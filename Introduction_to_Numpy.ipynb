{
  "nbformat": 4,
  "nbformat_minor": 0,
  "metadata": {
    "kernelspec": {
      "display_name": "Python 3",
      "language": "python",
      "name": "python3"
    },
    "language_info": {
      "codemirror_mode": {
        "name": "ipython",
        "version": 3
      },
      "file_extension": ".py",
      "mimetype": "text/x-python",
      "name": "python",
      "nbconvert_exporter": "python",
      "pygments_lexer": "ipython3",
      "version": "3.8.3"
    },
    "toc": {
      "base_numbering": 1,
      "nav_menu": {},
      "number_sections": true,
      "sideBar": true,
      "skip_h1_title": false,
      "title_cell": "Table of Contents",
      "title_sidebar": "Contents",
      "toc_cell": false,
      "toc_position": {},
      "toc_section_display": true,
      "toc_window_display": false
    },
    "colab": {
      "name": "1. Introduction to Numpy.ipynb",
      "provenance": [],
      "include_colab_link": true
    }
  },
  "cells": [
    {
      "cell_type": "markdown",
      "metadata": {
        "id": "view-in-github",
        "colab_type": "text"
      },
      "source": [
        "<a href=\"https://colab.research.google.com/github/ashkanmulla/Ashkan_Data_Science_Practice/blob/main/Introduction_to_Numpy.ipynb\" target=\"_parent\"><img src=\"https://colab.research.google.com/assets/colab-badge.svg\" alt=\"Open In Colab\"/></a>"
      ]
    },
    {
      "cell_type": "code",
      "metadata": {
        "id": "efQTZi6auaKt"
      },
      "source": [
        "import numpy as np"
      ],
      "execution_count": null,
      "outputs": []
    },
    {
      "cell_type": "code",
      "metadata": {
        "id": "_WJ6jmMBuaKv",
        "outputId": "c11525fd-48d8-4c86-f59d-b60b966f700e"
      },
      "source": [
        "lst_data = list(range(1, 11))\n",
        "print(lst_data)"
      ],
      "execution_count": null,
      "outputs": [
        {
          "name": "stdout",
          "output_type": "stream",
          "text": [
            "[1, 2, 3, 4, 5, 6, 7, 8, 9, 10]\n"
          ]
        }
      ]
    },
    {
      "cell_type": "code",
      "metadata": {
        "id": "kCaTjzOVuaKw",
        "outputId": "398f0c15-699e-4fc1-af33-05dfbc9b065c"
      },
      "source": [
        "np.array(lst_data)"
      ],
      "execution_count": null,
      "outputs": [
        {
          "data": {
            "text/plain": [
              "array([ 1,  2,  3,  4,  5,  6,  7,  8,  9, 10])"
            ]
          },
          "execution_count": 185,
          "metadata": {},
          "output_type": "execute_result"
        }
      ]
    },
    {
      "cell_type": "code",
      "metadata": {
        "id": "ipW8EqQhuaKx"
      },
      "source": [
        "e = np.array([lst_data])"
      ],
      "execution_count": null,
      "outputs": []
    },
    {
      "cell_type": "code",
      "metadata": {
        "id": "HvqmFq66uaKy",
        "outputId": "183dc956-b375-4260-babd-8131278b7ddc"
      },
      "source": [
        "print(e.shape)\n",
        "print(e.ndim)\n",
        "print(e)"
      ],
      "execution_count": null,
      "outputs": [
        {
          "name": "stdout",
          "output_type": "stream",
          "text": [
            "(1, 10)\n",
            "2\n",
            "[[ 1  2  3  4  5  6  7  8  9 10]]\n"
          ]
        }
      ]
    },
    {
      "cell_type": "code",
      "metadata": {
        "id": "kT1VzdJmuaKy"
      },
      "source": [
        ""
      ],
      "execution_count": null,
      "outputs": []
    },
    {
      "cell_type": "code",
      "metadata": {
        "id": "BwyCqJbBuaKz"
      },
      "source": [
        ""
      ],
      "execution_count": null,
      "outputs": []
    },
    {
      "cell_type": "code",
      "metadata": {
        "id": "GCVONB8duaK0"
      },
      "source": [
        "np1 = np.array(lst_data)"
      ],
      "execution_count": null,
      "outputs": []
    },
    {
      "cell_type": "code",
      "metadata": {
        "id": "ZCmAgonsuaK0",
        "outputId": "9bcc735b-ada4-43ac-d766-7c474034bb39"
      },
      "source": [
        "np1"
      ],
      "execution_count": null,
      "outputs": [
        {
          "data": {
            "text/plain": [
              "array([ 1,  2,  3,  4,  5,  6,  7,  8,  9, 10])"
            ]
          },
          "execution_count": 5,
          "metadata": {},
          "output_type": "execute_result"
        }
      ]
    },
    {
      "cell_type": "code",
      "metadata": {
        "id": "85WRd_Y0uaK1",
        "outputId": "bb4b7ca1-6c56-462b-bbb2-9e7812d58af7"
      },
      "source": [
        "print(type(np1))"
      ],
      "execution_count": null,
      "outputs": [
        {
          "name": "stdout",
          "output_type": "stream",
          "text": [
            "<class 'numpy.ndarray'>\n"
          ]
        }
      ]
    },
    {
      "cell_type": "code",
      "metadata": {
        "id": "NWw0xaOZuaK2"
      },
      "source": [
        ""
      ],
      "execution_count": null,
      "outputs": []
    },
    {
      "cell_type": "markdown",
      "metadata": {
        "id": "qIW0KHzUuaK2"
      },
      "source": [
        "### Shape"
      ]
    },
    {
      "cell_type": "code",
      "metadata": {
        "id": "npicVuLauaK3",
        "outputId": "7971ad23-2bec-46aa-b3c5-38d04a1dd753"
      },
      "source": [
        "np1.shape"
      ],
      "execution_count": null,
      "outputs": [
        {
          "data": {
            "text/plain": [
              "(10,)"
            ]
          },
          "execution_count": 7,
          "metadata": {},
          "output_type": "execute_result"
        }
      ]
    },
    {
      "cell_type": "code",
      "metadata": {
        "id": "jtIyU0RFuaK3",
        "outputId": "83ecf7b8-2416-4434-c077-b1aec38e13d0"
      },
      "source": [
        "np1.ndim"
      ],
      "execution_count": null,
      "outputs": [
        {
          "data": {
            "text/plain": [
              "1"
            ]
          },
          "execution_count": 18,
          "metadata": {},
          "output_type": "execute_result"
        }
      ]
    },
    {
      "cell_type": "markdown",
      "metadata": {
        "id": "CrInS1lzuaK4"
      },
      "source": [
        "### Create a multi-dimensinal array"
      ]
    },
    {
      "cell_type": "code",
      "metadata": {
        "id": "aYecHIVIuaK4"
      },
      "source": [
        "my_matrix = [[1, 2, 3, 10], [4, 5, 6, 11], [7, 8, 9, 12]]"
      ],
      "execution_count": null,
      "outputs": []
    },
    {
      "cell_type": "code",
      "metadata": {
        "id": "2MxZ7JS9uaK5"
      },
      "source": [
        "md_arr = np.array(my_matrix)"
      ],
      "execution_count": null,
      "outputs": []
    },
    {
      "cell_type": "code",
      "metadata": {
        "id": "VYkwsoHkuaK5",
        "outputId": "1359308c-325e-4413-bee8-c98568521ebc"
      },
      "source": [
        "md_arr"
      ],
      "execution_count": null,
      "outputs": [
        {
          "data": {
            "text/plain": [
              "array([[ 1,  2,  3, 10],\n",
              "       [ 4,  5,  6, 11],\n",
              "       [ 7,  8,  9, 12]])"
            ]
          },
          "execution_count": 15,
          "metadata": {},
          "output_type": "execute_result"
        }
      ]
    },
    {
      "cell_type": "code",
      "metadata": {
        "id": "hAc6BuxMuaK6",
        "outputId": "8c92efe1-2200-4697-9cdf-0f5c38d783cf"
      },
      "source": [
        "md_arr.shape"
      ],
      "execution_count": null,
      "outputs": [
        {
          "data": {
            "text/plain": [
              "(3, 4)"
            ]
          },
          "execution_count": 16,
          "metadata": {},
          "output_type": "execute_result"
        }
      ]
    },
    {
      "cell_type": "code",
      "metadata": {
        "id": "2PM1skIKuaK7",
        "outputId": "e2c473f5-e559-4a5e-80ae-ea66e90709fa"
      },
      "source": [
        "md_arr.ndim"
      ],
      "execution_count": null,
      "outputs": [
        {
          "data": {
            "text/plain": [
              "2"
            ]
          },
          "execution_count": 17,
          "metadata": {},
          "output_type": "execute_result"
        }
      ]
    },
    {
      "cell_type": "code",
      "metadata": {
        "id": "ZULl3qyXuaK7",
        "outputId": "a9a4ac6f-ae3f-4397-9273-2f976345dac3"
      },
      "source": [
        "md_arr.dtype"
      ],
      "execution_count": null,
      "outputs": [
        {
          "data": {
            "text/plain": [
              "dtype('int32')"
            ]
          },
          "execution_count": 19,
          "metadata": {},
          "output_type": "execute_result"
        }
      ]
    },
    {
      "cell_type": "code",
      "metadata": {
        "id": "PzY8uefmuaK8"
      },
      "source": [
        ""
      ],
      "execution_count": null,
      "outputs": []
    },
    {
      "cell_type": "code",
      "metadata": {
        "id": "ZWwD8_mUuaK8"
      },
      "source": [
        "arr1 = np.array([1, 2, 3, 4, 5], dtype=float)"
      ],
      "execution_count": null,
      "outputs": []
    },
    {
      "cell_type": "code",
      "metadata": {
        "id": "qUz5OphmuaK9",
        "outputId": "4220a3f9-a1dc-44b1-fdb0-90c2f698a59a"
      },
      "source": [
        "arr1"
      ],
      "execution_count": null,
      "outputs": [
        {
          "data": {
            "text/plain": [
              "array([1., 2., 3., 4., 5.])"
            ]
          },
          "execution_count": 37,
          "metadata": {},
          "output_type": "execute_result"
        }
      ]
    },
    {
      "cell_type": "code",
      "metadata": {
        "id": "RsVn_5IAuaK9",
        "outputId": "109ce17a-e20d-4462-9bb9-1129c10e45f8"
      },
      "source": [
        "arr1.dtype"
      ],
      "execution_count": null,
      "outputs": [
        {
          "data": {
            "text/plain": [
              "dtype('float64')"
            ]
          },
          "execution_count": 38,
          "metadata": {},
          "output_type": "execute_result"
        }
      ]
    },
    {
      "cell_type": "code",
      "metadata": {
        "id": "D0BbTeQquaK-"
      },
      "source": [
        ""
      ],
      "execution_count": null,
      "outputs": []
    },
    {
      "cell_type": "code",
      "metadata": {
        "id": "3iZKNqEJuaK-",
        "outputId": "4a4ba704-2315-4faa-f1ff-c7480838a77c"
      },
      "source": [
        "lst_odd_size = [[1, 2, 3], [4, 5], [7, 8, 9]]\n",
        "lst_odd_size"
      ],
      "execution_count": null,
      "outputs": [
        {
          "data": {
            "text/plain": [
              "[[1, 2, 3], [4, 5], [7, 8, 9]]"
            ]
          },
          "execution_count": 39,
          "metadata": {},
          "output_type": "execute_result"
        }
      ]
    },
    {
      "cell_type": "code",
      "metadata": {
        "id": "bVYfz9LSuaK-"
      },
      "source": [
        "md_arr_odd = np.array(lst_odd_size)"
      ],
      "execution_count": null,
      "outputs": []
    },
    {
      "cell_type": "code",
      "metadata": {
        "id": "QzbMK-BWuaK_",
        "outputId": "0127da94-acf4-4f45-bae2-878aa951264d"
      },
      "source": [
        "md_arr_odd"
      ],
      "execution_count": null,
      "outputs": [
        {
          "data": {
            "text/plain": [
              "array([list([1, 2, 3]), list([4, 5]), list([7, 8, 9])], dtype=object)"
            ]
          },
          "execution_count": 41,
          "metadata": {},
          "output_type": "execute_result"
        }
      ]
    },
    {
      "cell_type": "code",
      "metadata": {
        "id": "jzcNagv9uaK_",
        "outputId": "9c8908d2-fc02-442a-e594-a5f827913de5"
      },
      "source": [
        "md_arr_odd.shape"
      ],
      "execution_count": null,
      "outputs": [
        {
          "data": {
            "text/plain": [
              "(3,)"
            ]
          },
          "execution_count": 42,
          "metadata": {},
          "output_type": "execute_result"
        }
      ]
    },
    {
      "cell_type": "code",
      "metadata": {
        "id": "LlVHz-aruaK_",
        "outputId": "0f9e2a4b-586f-4a41-f53f-18c5da5b178f"
      },
      "source": [
        "md_arr_odd.ndim"
      ],
      "execution_count": null,
      "outputs": [
        {
          "data": {
            "text/plain": [
              "1"
            ]
          },
          "execution_count": 43,
          "metadata": {},
          "output_type": "execute_result"
        }
      ]
    },
    {
      "cell_type": "code",
      "metadata": {
        "id": "Br2ExrSCuaLA",
        "outputId": "002871c2-0eb0-423b-b484-f0027da7ad18"
      },
      "source": [
        "md_arr_odd.dtype"
      ],
      "execution_count": null,
      "outputs": [
        {
          "data": {
            "text/plain": [
              "dtype('O')"
            ]
          },
          "execution_count": 44,
          "metadata": {},
          "output_type": "execute_result"
        }
      ]
    },
    {
      "cell_type": "code",
      "metadata": {
        "id": "zn6wCJ1CuaLA"
      },
      "source": [
        ""
      ],
      "execution_count": null,
      "outputs": []
    },
    {
      "cell_type": "code",
      "metadata": {
        "id": "BxqjrA1QuaLA"
      },
      "source": [
        "my_list = [1, 2, 3, 4, 5, 6]"
      ],
      "execution_count": null,
      "outputs": []
    },
    {
      "cell_type": "code",
      "metadata": {
        "id": "as9YTv9JuaLB"
      },
      "source": [
        "arr1 = np.array(my_list, dtype='i')"
      ],
      "execution_count": null,
      "outputs": []
    },
    {
      "cell_type": "code",
      "metadata": {
        "id": "P1NU_ZujuaLB",
        "outputId": "6a51f1a7-2177-4f28-9232-26d4cf5ecafe"
      },
      "source": [
        "arr1"
      ],
      "execution_count": null,
      "outputs": [
        {
          "data": {
            "text/plain": [
              "array([1, 2, 3, 4, 5, 6], dtype=int32)"
            ]
          },
          "execution_count": 47,
          "metadata": {},
          "output_type": "execute_result"
        }
      ]
    },
    {
      "cell_type": "code",
      "metadata": {
        "id": "aMhC8ie1uaLB",
        "outputId": "11e38de7-ecc1-40e8-afb6-92ab154b35e7"
      },
      "source": [
        "arr1.shape"
      ],
      "execution_count": null,
      "outputs": [
        {
          "data": {
            "text/plain": [
              "(6,)"
            ]
          },
          "execution_count": 48,
          "metadata": {},
          "output_type": "execute_result"
        }
      ]
    },
    {
      "cell_type": "code",
      "metadata": {
        "id": "0PXUVuO1uaLB"
      },
      "source": [
        "arr2 = arr1.reshape(3, 2)"
      ],
      "execution_count": null,
      "outputs": []
    },
    {
      "cell_type": "code",
      "metadata": {
        "id": "O0SA7hkBuaLB",
        "outputId": "5bbf04a5-9a30-423d-969f-f7383159c414"
      },
      "source": [
        "arr2"
      ],
      "execution_count": null,
      "outputs": [
        {
          "data": {
            "text/plain": [
              "array([[1, 2],\n",
              "       [3, 4],\n",
              "       [5, 6]], dtype=int32)"
            ]
          },
          "execution_count": 50,
          "metadata": {},
          "output_type": "execute_result"
        }
      ]
    },
    {
      "cell_type": "code",
      "metadata": {
        "id": "n4uxYz3wuaLC",
        "outputId": "49d89853-afe5-40ff-d536-2140bfd3600b"
      },
      "source": [
        "arr2.ndim"
      ],
      "execution_count": null,
      "outputs": [
        {
          "data": {
            "text/plain": [
              "2"
            ]
          },
          "execution_count": 51,
          "metadata": {},
          "output_type": "execute_result"
        }
      ]
    },
    {
      "cell_type": "code",
      "metadata": {
        "id": "LaPSTxNbuaLC",
        "outputId": "ceb5d6c7-f1a1-4a5f-e2d0-58ede98e1166"
      },
      "source": [
        "arr1"
      ],
      "execution_count": null,
      "outputs": [
        {
          "data": {
            "text/plain": [
              "array([1, 2, 3, 4, 5, 6], dtype=int32)"
            ]
          },
          "execution_count": 52,
          "metadata": {},
          "output_type": "execute_result"
        }
      ]
    },
    {
      "cell_type": "code",
      "metadata": {
        "id": "PoYUkSUGuaLC"
      },
      "source": [
        "arr3 = arr1.reshape(3, -1)"
      ],
      "execution_count": null,
      "outputs": []
    },
    {
      "cell_type": "code",
      "metadata": {
        "id": "e4IPdIhjuaLC",
        "outputId": "cc7dba81-4a52-4a43-cb1a-056e6fffe551"
      },
      "source": [
        "arr3"
      ],
      "execution_count": null,
      "outputs": [
        {
          "data": {
            "text/plain": [
              "array([[1, 2],\n",
              "       [3, 4],\n",
              "       [5, 6]], dtype=int32)"
            ]
          },
          "execution_count": 54,
          "metadata": {},
          "output_type": "execute_result"
        }
      ]
    },
    {
      "cell_type": "code",
      "metadata": {
        "id": "5UvJHPNTuaLD",
        "outputId": "cb259dca-c3f6-4a95-a03f-0962943db00c"
      },
      "source": [
        "arr3.shape"
      ],
      "execution_count": null,
      "outputs": [
        {
          "data": {
            "text/plain": [
              "(3, 2)"
            ]
          },
          "execution_count": 55,
          "metadata": {},
          "output_type": "execute_result"
        }
      ]
    },
    {
      "cell_type": "code",
      "metadata": {
        "id": "pqZP_CUruaLD"
      },
      "source": [
        "my_list1 = list(range(1, 6))\n",
        "my_list2 = list(range(10, 15))\n",
        "my_list3 = list(range(20, 25))"
      ],
      "execution_count": null,
      "outputs": []
    },
    {
      "cell_type": "code",
      "metadata": {
        "id": "4EUs8yvLuaLD",
        "outputId": "1871e23c-87a1-4848-e0db-44e4ca9de483"
      },
      "source": [
        "my_list1, my_list2, my_list3"
      ],
      "execution_count": null,
      "outputs": [
        {
          "data": {
            "text/plain": [
              "([1, 2, 3, 4, 5], [10, 11, 12, 13, 14], [20, 21, 22, 23, 24])"
            ]
          },
          "execution_count": 62,
          "metadata": {},
          "output_type": "execute_result"
        }
      ]
    },
    {
      "cell_type": "code",
      "metadata": {
        "id": "9F-_WsebuaLD"
      },
      "source": [
        "mul_arr = np.array([my_list1, my_list2, my_list3])"
      ],
      "execution_count": null,
      "outputs": []
    },
    {
      "cell_type": "code",
      "metadata": {
        "id": "FBwfuvx2uaLE",
        "outputId": "cff7196c-68c0-4ae1-be97-f266eff99c04"
      },
      "source": [
        "mul_arr"
      ],
      "execution_count": null,
      "outputs": [
        {
          "data": {
            "text/plain": [
              "array([[ 1,  2,  3,  4,  5],\n",
              "       [10, 11, 12, 13, 14],\n",
              "       [20, 21, 22, 23, 24]])"
            ]
          },
          "execution_count": 64,
          "metadata": {},
          "output_type": "execute_result"
        }
      ]
    },
    {
      "cell_type": "code",
      "metadata": {
        "id": "cKiwzhc9uaLE",
        "outputId": "2ab4f48d-25ac-4f2d-849e-fe1bfbe7a895"
      },
      "source": [
        "mul_arr.shape"
      ],
      "execution_count": null,
      "outputs": [
        {
          "data": {
            "text/plain": [
              "(3, 5)"
            ]
          },
          "execution_count": 65,
          "metadata": {},
          "output_type": "execute_result"
        }
      ]
    },
    {
      "cell_type": "code",
      "metadata": {
        "id": "G4zhQfJkuaLE"
      },
      "source": [
        "mul_arr_15 = mul_arr.reshape(1, 15)"
      ],
      "execution_count": null,
      "outputs": []
    },
    {
      "cell_type": "code",
      "metadata": {
        "id": "IZ_dLKqUuaLE",
        "outputId": "b5bdfbc7-3cd7-47f3-bd45-fd347436284b"
      },
      "source": [
        "mul_arr_15.shape"
      ],
      "execution_count": null,
      "outputs": [
        {
          "data": {
            "text/plain": [
              "(1, 15)"
            ]
          },
          "execution_count": 69,
          "metadata": {},
          "output_type": "execute_result"
        }
      ]
    },
    {
      "cell_type": "code",
      "metadata": {
        "id": "R13CT11cuaLF",
        "outputId": "85a5ecac-b83b-4705-d721-d3a173f439e4"
      },
      "source": [
        "mul_arr_15.ndim"
      ],
      "execution_count": null,
      "outputs": [
        {
          "data": {
            "text/plain": [
              "2"
            ]
          },
          "execution_count": 70,
          "metadata": {},
          "output_type": "execute_result"
        }
      ]
    },
    {
      "cell_type": "code",
      "metadata": {
        "id": "J1AgVMdruaLF"
      },
      "source": [
        "mul_arr_51 = mul_arr_15.reshape(15, 1)"
      ],
      "execution_count": null,
      "outputs": []
    },
    {
      "cell_type": "code",
      "metadata": {
        "id": "CaggF14kuaLF",
        "outputId": "71ef2ce6-14f1-4a07-9ff1-a96c8ea9ca0c"
      },
      "source": [
        "mul_arr_51.shape"
      ],
      "execution_count": null,
      "outputs": [
        {
          "data": {
            "text/plain": [
              "(15, 1)"
            ]
          },
          "execution_count": 72,
          "metadata": {},
          "output_type": "execute_result"
        }
      ]
    },
    {
      "cell_type": "code",
      "metadata": {
        "id": "-q2w8pIFuaLF",
        "outputId": "50f8df37-d7d1-40f1-d3ca-7508b832156e"
      },
      "source": [
        "mul_arr_51.ndim"
      ],
      "execution_count": null,
      "outputs": [
        {
          "data": {
            "text/plain": [
              "2"
            ]
          },
          "execution_count": 73,
          "metadata": {},
          "output_type": "execute_result"
        }
      ]
    },
    {
      "cell_type": "code",
      "metadata": {
        "id": "Ktg13wzwuaLG",
        "outputId": "ea80dc23-2adb-47e4-b35d-f69dc9a0f123"
      },
      "source": [
        "mul_arr_15"
      ],
      "execution_count": null,
      "outputs": [
        {
          "data": {
            "text/plain": [
              "array([[ 1,  2,  3,  4,  5, 10, 11, 12, 13, 14, 20, 21, 22, 23, 24]])"
            ]
          },
          "execution_count": 74,
          "metadata": {},
          "output_type": "execute_result"
        }
      ]
    },
    {
      "cell_type": "code",
      "metadata": {
        "id": "30X6yNyxuaLG",
        "outputId": "f113c5e8-9134-41ee-b3de-04be0c187b75"
      },
      "source": [
        "mul_arr_51"
      ],
      "execution_count": null,
      "outputs": [
        {
          "data": {
            "text/plain": [
              "array([[ 1],\n",
              "       [ 2],\n",
              "       [ 3],\n",
              "       [ 4],\n",
              "       [ 5],\n",
              "       [10],\n",
              "       [11],\n",
              "       [12],\n",
              "       [13],\n",
              "       [14],\n",
              "       [20],\n",
              "       [21],\n",
              "       [22],\n",
              "       [23],\n",
              "       [24]])"
            ]
          },
          "execution_count": 75,
          "metadata": {},
          "output_type": "execute_result"
        }
      ]
    },
    {
      "cell_type": "code",
      "metadata": {
        "id": "Eg4_Ejp2uaLG"
      },
      "source": [
        ""
      ],
      "execution_count": null,
      "outputs": []
    },
    {
      "cell_type": "code",
      "metadata": {
        "id": "dC9y47OAuaLG",
        "outputId": "9ba5a68b-6d70-48d3-dc97-d4f7ce0a7ff7"
      },
      "source": [
        "a = np.arange(24)\n",
        "print(a)"
      ],
      "execution_count": null,
      "outputs": [
        {
          "name": "stdout",
          "output_type": "stream",
          "text": [
            "[ 0  1  2  3  4  5  6  7  8  9 10 11 12 13 14 15 16 17 18 19 20 21 22 23]\n"
          ]
        }
      ]
    },
    {
      "cell_type": "code",
      "metadata": {
        "id": "oa1uoJk3uaLH",
        "outputId": "a32201ca-c67b-4078-fbd2-334a8a1fea39"
      },
      "source": [
        "a.ndim"
      ],
      "execution_count": null,
      "outputs": [
        {
          "data": {
            "text/plain": [
              "1"
            ]
          },
          "execution_count": 77,
          "metadata": {},
          "output_type": "execute_result"
        }
      ]
    },
    {
      "cell_type": "code",
      "metadata": {
        "id": "SQ56LMb8uaLH",
        "outputId": "745a1ae8-fdc9-4986-9724-6df9828c68a6"
      },
      "source": [
        "a.reshape(6, 4)"
      ],
      "execution_count": null,
      "outputs": [
        {
          "data": {
            "text/plain": [
              "array([[ 0,  1,  2,  3],\n",
              "       [ 4,  5,  6,  7],\n",
              "       [ 8,  9, 10, 11],\n",
              "       [12, 13, 14, 15],\n",
              "       [16, 17, 18, 19],\n",
              "       [20, 21, 22, 23]])"
            ]
          },
          "execution_count": 78,
          "metadata": {},
          "output_type": "execute_result"
        }
      ]
    },
    {
      "cell_type": "code",
      "metadata": {
        "id": "MWc5H9tFuaLH"
      },
      "source": [
        "b = a.reshape(6, 4, 1)"
      ],
      "execution_count": null,
      "outputs": []
    },
    {
      "cell_type": "code",
      "metadata": {
        "id": "p9a7BhcjuaLH",
        "outputId": "7d4d1979-f2cf-4672-d5a5-30b9be56b69b"
      },
      "source": [
        "b.ndim"
      ],
      "execution_count": null,
      "outputs": [
        {
          "data": {
            "text/plain": [
              "3"
            ]
          },
          "execution_count": 80,
          "metadata": {},
          "output_type": "execute_result"
        }
      ]
    },
    {
      "cell_type": "code",
      "metadata": {
        "id": "al41l9kIuaLI",
        "outputId": "f8ae0227-17a5-4fe3-c712-286ed0817fc3"
      },
      "source": [
        "b"
      ],
      "execution_count": null,
      "outputs": [
        {
          "data": {
            "text/plain": [
              "array([[[ 0],\n",
              "        [ 1],\n",
              "        [ 2],\n",
              "        [ 3]],\n",
              "\n",
              "       [[ 4],\n",
              "        [ 5],\n",
              "        [ 6],\n",
              "        [ 7]],\n",
              "\n",
              "       [[ 8],\n",
              "        [ 9],\n",
              "        [10],\n",
              "        [11]],\n",
              "\n",
              "       [[12],\n",
              "        [13],\n",
              "        [14],\n",
              "        [15]],\n",
              "\n",
              "       [[16],\n",
              "        [17],\n",
              "        [18],\n",
              "        [19]],\n",
              "\n",
              "       [[20],\n",
              "        [21],\n",
              "        [22],\n",
              "        [23]]])"
            ]
          },
          "execution_count": 81,
          "metadata": {},
          "output_type": "execute_result"
        }
      ]
    },
    {
      "cell_type": "code",
      "metadata": {
        "id": "ybwitvVQuaLI"
      },
      "source": [
        "c = a.reshape(3, 2, 4)"
      ],
      "execution_count": null,
      "outputs": []
    },
    {
      "cell_type": "code",
      "metadata": {
        "id": "d8ewXffbuaLI",
        "outputId": "b0605821-350a-4850-a523-3197da70445b"
      },
      "source": [
        "c"
      ],
      "execution_count": null,
      "outputs": [
        {
          "data": {
            "text/plain": [
              "array([[[ 0,  1,  2,  3],\n",
              "        [ 4,  5,  6,  7]],\n",
              "\n",
              "       [[ 8,  9, 10, 11],\n",
              "        [12, 13, 14, 15]],\n",
              "\n",
              "       [[16, 17, 18, 19],\n",
              "        [20, 21, 22, 23]]])"
            ]
          },
          "execution_count": 83,
          "metadata": {},
          "output_type": "execute_result"
        }
      ]
    },
    {
      "cell_type": "code",
      "metadata": {
        "id": "K2gQ0JVbuaLI"
      },
      "source": [
        ""
      ],
      "execution_count": null,
      "outputs": []
    },
    {
      "cell_type": "code",
      "metadata": {
        "id": "wufusCVIuaLI"
      },
      "source": [
        "x = np.array([1, 2, 3], dtype = np.int8)"
      ],
      "execution_count": null,
      "outputs": []
    },
    {
      "cell_type": "code",
      "metadata": {
        "id": "_fDS6hIduaLJ",
        "outputId": "3b5cbdc9-e269-4ebc-cc5b-120f96f76ec7"
      },
      "source": [
        "print(x.itemsize)"
      ],
      "execution_count": null,
      "outputs": [
        {
          "name": "stdout",
          "output_type": "stream",
          "text": [
            "1\n"
          ]
        }
      ]
    },
    {
      "cell_type": "code",
      "metadata": {
        "id": "OSfewZOquaLJ"
      },
      "source": [
        "x = np.array([1, 2, 3], dtype = np.int64)"
      ],
      "execution_count": null,
      "outputs": []
    },
    {
      "cell_type": "code",
      "metadata": {
        "id": "G13D0EovuaLJ",
        "outputId": "3d7e154d-61fa-4ac7-e15d-14c28b84567a"
      },
      "source": [
        "print(x.itemsize)"
      ],
      "execution_count": null,
      "outputs": [
        {
          "name": "stdout",
          "output_type": "stream",
          "text": [
            "8\n"
          ]
        }
      ]
    },
    {
      "cell_type": "code",
      "metadata": {
        "id": "VdAUC3HVuaLJ",
        "outputId": "95d46d6f-2480-4028-a344-05f533face11"
      },
      "source": [
        "x = np.array([1, 2, 3], dtype = np.int32)\n",
        "print(x.itemsize)"
      ],
      "execution_count": null,
      "outputs": [
        {
          "name": "stdout",
          "output_type": "stream",
          "text": [
            "4\n"
          ]
        }
      ]
    },
    {
      "cell_type": "code",
      "metadata": {
        "id": "D965mbIvuaLK"
      },
      "source": [
        ""
      ],
      "execution_count": null,
      "outputs": []
    },
    {
      "cell_type": "code",
      "metadata": {
        "id": "z0VwKmIOuaLK"
      },
      "source": [
        "arr1 = np.arange(0, 11, 2)"
      ],
      "execution_count": null,
      "outputs": []
    },
    {
      "cell_type": "code",
      "metadata": {
        "id": "9ngodiIkuaLK",
        "outputId": "6a4703f2-a081-42bf-dc76-0d849d403d6a"
      },
      "source": [
        "arr1"
      ],
      "execution_count": null,
      "outputs": [
        {
          "data": {
            "text/plain": [
              "array([ 0,  2,  4,  6,  8, 10])"
            ]
          },
          "execution_count": 91,
          "metadata": {},
          "output_type": "execute_result"
        }
      ]
    },
    {
      "cell_type": "code",
      "metadata": {
        "id": "D8w08vi2uaLK"
      },
      "source": [
        ""
      ],
      "execution_count": null,
      "outputs": []
    },
    {
      "cell_type": "code",
      "metadata": {
        "id": "DnRyAwyRuaLK"
      },
      "source": [
        ""
      ],
      "execution_count": null,
      "outputs": []
    },
    {
      "cell_type": "code",
      "metadata": {
        "id": "EuEgkEXSuaLK"
      },
      "source": [
        "arr = np.random.randint(20, 30, 10)"
      ],
      "execution_count": null,
      "outputs": []
    },
    {
      "cell_type": "code",
      "metadata": {
        "id": "MIq8wDqouaLL",
        "outputId": "fafb10ed-e649-4fbe-93a5-5df05c09e3ee"
      },
      "source": [
        "arr"
      ],
      "execution_count": null,
      "outputs": [
        {
          "data": {
            "text/plain": [
              "array([20, 27, 28, 26, 25, 23, 22, 22, 26, 21])"
            ]
          },
          "execution_count": 99,
          "metadata": {},
          "output_type": "execute_result"
        }
      ]
    },
    {
      "cell_type": "code",
      "metadata": {
        "id": "L9mMR3_wuaLL",
        "outputId": "2a342896-e5fa-4912-f577-c157c16ed2f3"
      },
      "source": [
        "len(arr)"
      ],
      "execution_count": null,
      "outputs": [
        {
          "data": {
            "text/plain": [
              "10"
            ]
          },
          "execution_count": 100,
          "metadata": {},
          "output_type": "execute_result"
        }
      ]
    },
    {
      "cell_type": "code",
      "metadata": {
        "id": "XmHRdJy3uaLL"
      },
      "source": [
        ""
      ],
      "execution_count": null,
      "outputs": []
    },
    {
      "cell_type": "code",
      "metadata": {
        "id": "Q4DoNBtJuaLL",
        "outputId": "b36cd590-435c-4239-c7b2-4b1e25d201d4"
      },
      "source": [
        "# index starts with zero\n",
        "arr[0]"
      ],
      "execution_count": null,
      "outputs": [
        {
          "data": {
            "text/plain": [
              "20"
            ]
          },
          "execution_count": 101,
          "metadata": {},
          "output_type": "execute_result"
        }
      ]
    },
    {
      "cell_type": "code",
      "metadata": {
        "id": "JL-tZh9quaLM",
        "outputId": "dcdbd0d5-5d20-409c-c08f-4521e4f61863"
      },
      "source": [
        "arr[5:8]"
      ],
      "execution_count": null,
      "outputs": [
        {
          "data": {
            "text/plain": [
              "array([23, 22, 22])"
            ]
          },
          "execution_count": 102,
          "metadata": {},
          "output_type": "execute_result"
        }
      ]
    },
    {
      "cell_type": "code",
      "metadata": {
        "id": "q8WCwiRRuaLM",
        "outputId": "24a33e9a-fe11-4cef-8153-a1a3c47dfc60"
      },
      "source": [
        "arr[:3]"
      ],
      "execution_count": null,
      "outputs": [
        {
          "data": {
            "text/plain": [
              "array([20, 27, 28])"
            ]
          },
          "execution_count": 103,
          "metadata": {},
          "output_type": "execute_result"
        }
      ]
    },
    {
      "cell_type": "code",
      "metadata": {
        "id": "94mG0w0BuaLM",
        "outputId": "a1cfe346-adf2-438f-e8b4-8bc9248a5471"
      },
      "source": [
        "arr[3:]"
      ],
      "execution_count": null,
      "outputs": [
        {
          "data": {
            "text/plain": [
              "array([26, 25, 23, 22, 22, 26, 21])"
            ]
          },
          "execution_count": 104,
          "metadata": {},
          "output_type": "execute_result"
        }
      ]
    },
    {
      "cell_type": "code",
      "metadata": {
        "id": "kZe2oVd4uaLM",
        "outputId": "b76de80a-1049-467c-9fe0-8a3b247c9664"
      },
      "source": [
        "arr[-1]"
      ],
      "execution_count": null,
      "outputs": [
        {
          "data": {
            "text/plain": [
              "21"
            ]
          },
          "execution_count": 105,
          "metadata": {},
          "output_type": "execute_result"
        }
      ]
    },
    {
      "cell_type": "code",
      "metadata": {
        "id": "Tom99wEguaLN"
      },
      "source": [
        ""
      ],
      "execution_count": null,
      "outputs": []
    },
    {
      "cell_type": "code",
      "metadata": {
        "id": "nrJPRebGuaLN"
      },
      "source": [
        "# Broadcasting\n",
        "# Array slices are *actually* views on the original array\n",
        "# That means, data isn't copied, and any modifications to the view would be reflected back to the source array"
      ],
      "execution_count": null,
      "outputs": []
    },
    {
      "cell_type": "code",
      "metadata": {
        "id": "FtWG_ceouaLN",
        "outputId": "db878ebd-2176-4208-d75b-81bb0371d432"
      },
      "source": [
        "arr"
      ],
      "execution_count": null,
      "outputs": [
        {
          "data": {
            "text/plain": [
              "array([20, 27, 28, 26, 25, 23, 22, 22, 26, 21])"
            ]
          },
          "execution_count": 107,
          "metadata": {},
          "output_type": "execute_result"
        }
      ]
    },
    {
      "cell_type": "code",
      "metadata": {
        "id": "PReKJm8ouaLN"
      },
      "source": [
        "arr[0:5] = 99"
      ],
      "execution_count": null,
      "outputs": []
    },
    {
      "cell_type": "code",
      "metadata": {
        "id": "CJtuh0m5uaLN",
        "outputId": "0cb2ade4-91a6-4f92-efb6-e5af4b5dda85"
      },
      "source": [
        "arr"
      ],
      "execution_count": null,
      "outputs": [
        {
          "data": {
            "text/plain": [
              "array([99, 99, 99, 99, 99, 23, 22, 22, 26, 21])"
            ]
          },
          "execution_count": 109,
          "metadata": {},
          "output_type": "execute_result"
        }
      ]
    },
    {
      "cell_type": "code",
      "metadata": {
        "id": "yoUgflhIuaLO"
      },
      "source": [
        ""
      ],
      "execution_count": null,
      "outputs": []
    },
    {
      "cell_type": "code",
      "metadata": {
        "id": "9kTn-3xeuaLO"
      },
      "source": [
        "new_arr = np.random.randint(10, 20, 10)"
      ],
      "execution_count": null,
      "outputs": []
    },
    {
      "cell_type": "code",
      "metadata": {
        "id": "z4uuW_hkuaLO",
        "outputId": "f9d84e75-f98d-4919-9cdf-779468bf4381"
      },
      "source": [
        "new_arr"
      ],
      "execution_count": null,
      "outputs": [
        {
          "data": {
            "text/plain": [
              "array([13, 11, 16, 13, 15, 12, 13, 17, 10, 16])"
            ]
          },
          "execution_count": 111,
          "metadata": {},
          "output_type": "execute_result"
        }
      ]
    },
    {
      "cell_type": "code",
      "metadata": {
        "id": "dZ5NKSaOuaLO"
      },
      "source": [
        "slice_new_arr = new_arr[0:5]"
      ],
      "execution_count": null,
      "outputs": []
    },
    {
      "cell_type": "code",
      "metadata": {
        "id": "aCijaUgWuaLO",
        "outputId": "f05235df-d5da-4fc0-a887-7a7bb422668a"
      },
      "source": [
        "slice_new_arr"
      ],
      "execution_count": null,
      "outputs": [
        {
          "data": {
            "text/plain": [
              "array([13, 11, 16, 13, 15])"
            ]
          },
          "execution_count": 113,
          "metadata": {},
          "output_type": "execute_result"
        }
      ]
    },
    {
      "cell_type": "code",
      "metadata": {
        "id": "2e4DvgeeuaLP"
      },
      "source": [
        "slice_new_arr[0] = 100"
      ],
      "execution_count": null,
      "outputs": []
    },
    {
      "cell_type": "code",
      "metadata": {
        "id": "DtYOmOmFuaLP",
        "outputId": "f765baf1-5d1c-4296-c097-c8d66500aa09"
      },
      "source": [
        "slice_new_arr"
      ],
      "execution_count": null,
      "outputs": [
        {
          "data": {
            "text/plain": [
              "array([100,  11,  16,  13,  15])"
            ]
          },
          "execution_count": 115,
          "metadata": {},
          "output_type": "execute_result"
        }
      ]
    },
    {
      "cell_type": "code",
      "metadata": {
        "id": "VrIjf3KquaLP",
        "outputId": "2990edc4-a5e0-4300-908e-88b266084aa1"
      },
      "source": [
        "new_arr"
      ],
      "execution_count": null,
      "outputs": [
        {
          "data": {
            "text/plain": [
              "array([100,  11,  16,  13,  15,  12,  13,  17,  10,  16])"
            ]
          },
          "execution_count": 116,
          "metadata": {},
          "output_type": "execute_result"
        }
      ]
    },
    {
      "cell_type": "code",
      "metadata": {
        "id": "F0V4pSSluaLP"
      },
      "source": [
        "slice_new_arr[:] = 111"
      ],
      "execution_count": null,
      "outputs": []
    },
    {
      "cell_type": "code",
      "metadata": {
        "id": "XvTjfukHuaLQ",
        "outputId": "8b71ecfe-1be9-4f3c-c2e0-cbaed60e2c66"
      },
      "source": [
        "slice_new_arr"
      ],
      "execution_count": null,
      "outputs": [
        {
          "data": {
            "text/plain": [
              "array([111, 111, 111, 111, 111])"
            ]
          },
          "execution_count": 118,
          "metadata": {},
          "output_type": "execute_result"
        }
      ]
    },
    {
      "cell_type": "code",
      "metadata": {
        "id": "pr-HjY63uaLQ",
        "outputId": "a81d9426-01db-4817-c352-8defbc3bec89"
      },
      "source": [
        "new_arr"
      ],
      "execution_count": null,
      "outputs": [
        {
          "data": {
            "text/plain": [
              "array([111, 111, 111, 111, 111,  12,  13,  17,  10,  16])"
            ]
          },
          "execution_count": 119,
          "metadata": {},
          "output_type": "execute_result"
        }
      ]
    },
    {
      "cell_type": "code",
      "metadata": {
        "id": "-KMX5KOYuaLQ"
      },
      "source": [
        "new_arr_copy = new_arr.copy()"
      ],
      "execution_count": null,
      "outputs": []
    },
    {
      "cell_type": "code",
      "metadata": {
        "id": "-BrCw7uvuaLQ",
        "outputId": "c252e90e-e879-4a07-d42f-3ebdbaedb1b8"
      },
      "source": [
        "new_arr"
      ],
      "execution_count": null,
      "outputs": [
        {
          "data": {
            "text/plain": [
              "array([111, 111, 111, 111, 111,  12,  13,  17,  10,  16])"
            ]
          },
          "execution_count": 121,
          "metadata": {},
          "output_type": "execute_result"
        }
      ]
    },
    {
      "cell_type": "code",
      "metadata": {
        "id": "D1GAAh47uaLQ",
        "outputId": "199186bb-fc84-44de-8daf-57a2445e27bd"
      },
      "source": [
        "new_arr_copy"
      ],
      "execution_count": null,
      "outputs": [
        {
          "data": {
            "text/plain": [
              "array([111, 111, 111, 111, 111,  12,  13,  17,  10,  16])"
            ]
          },
          "execution_count": 122,
          "metadata": {},
          "output_type": "execute_result"
        }
      ]
    },
    {
      "cell_type": "code",
      "metadata": {
        "id": "7kzIZtwDuaLR"
      },
      "source": [
        "new_arr_copy[0:5] = 123"
      ],
      "execution_count": null,
      "outputs": []
    },
    {
      "cell_type": "code",
      "metadata": {
        "id": "u4jwxlY_uaLT",
        "outputId": "b86768af-fe55-49c0-f03d-3d387eadb679"
      },
      "source": [
        "new_arr_copy"
      ],
      "execution_count": null,
      "outputs": [
        {
          "data": {
            "text/plain": [
              "array([123, 123, 123, 123, 123,  12,  13,  17,  10,  16])"
            ]
          },
          "execution_count": 124,
          "metadata": {},
          "output_type": "execute_result"
        }
      ]
    },
    {
      "cell_type": "code",
      "metadata": {
        "id": "tLuL-U6fuaLT",
        "outputId": "f93667ab-7b28-4174-fca8-2d0475c50f4a"
      },
      "source": [
        "new_arr"
      ],
      "execution_count": null,
      "outputs": [
        {
          "data": {
            "text/plain": [
              "array([111, 111, 111, 111, 111,  12,  13,  17,  10,  16])"
            ]
          },
          "execution_count": 125,
          "metadata": {},
          "output_type": "execute_result"
        }
      ]
    },
    {
      "cell_type": "code",
      "metadata": {
        "id": "GWBf8vWjuaLT"
      },
      "source": [
        ""
      ],
      "execution_count": null,
      "outputs": []
    },
    {
      "cell_type": "code",
      "metadata": {
        "id": "oDK6tIZkuaLT"
      },
      "source": [
        "a = list(range(1, 11))"
      ],
      "execution_count": null,
      "outputs": []
    },
    {
      "cell_type": "code",
      "metadata": {
        "id": "b3JDwiOnuaLU",
        "outputId": "8f7dba3b-f00a-4a52-b4c2-863a167fbee6"
      },
      "source": [
        "a"
      ],
      "execution_count": null,
      "outputs": [
        {
          "data": {
            "text/plain": [
              "[1, 2, 3, 4, 5, 6, 7, 8, 9, 10]"
            ]
          },
          "execution_count": 127,
          "metadata": {},
          "output_type": "execute_result"
        }
      ]
    },
    {
      "cell_type": "code",
      "metadata": {
        "id": "4YSE9u98uaLU"
      },
      "source": [
        "b = a[0:5]"
      ],
      "execution_count": null,
      "outputs": []
    },
    {
      "cell_type": "code",
      "metadata": {
        "id": "NZmty4nouaLU",
        "outputId": "3d431a8b-6a2c-48b5-ca92-c7afe43a08b2"
      },
      "source": [
        "b"
      ],
      "execution_count": null,
      "outputs": [
        {
          "data": {
            "text/plain": [
              "[1, 2, 3, 4, 5]"
            ]
          },
          "execution_count": 129,
          "metadata": {},
          "output_type": "execute_result"
        }
      ]
    },
    {
      "cell_type": "code",
      "metadata": {
        "id": "1xTOEsZwuaLU"
      },
      "source": [
        "b[0] = 100"
      ],
      "execution_count": null,
      "outputs": []
    },
    {
      "cell_type": "code",
      "metadata": {
        "id": "WF689m0wuaLV",
        "outputId": "ae25dca5-eb2e-4725-b44c-680cb0dea7b9"
      },
      "source": [
        "b"
      ],
      "execution_count": null,
      "outputs": [
        {
          "data": {
            "text/plain": [
              "[100, 2, 3, 4, 5]"
            ]
          },
          "execution_count": 131,
          "metadata": {},
          "output_type": "execute_result"
        }
      ]
    },
    {
      "cell_type": "code",
      "metadata": {
        "id": "uyFYQo7RuaLV",
        "outputId": "0b8482ed-fc61-4428-d65e-eba26e9c4249"
      },
      "source": [
        "a"
      ],
      "execution_count": null,
      "outputs": [
        {
          "data": {
            "text/plain": [
              "[1, 2, 3, 4, 5, 6, 7, 8, 9, 10]"
            ]
          },
          "execution_count": 132,
          "metadata": {},
          "output_type": "execute_result"
        }
      ]
    },
    {
      "cell_type": "code",
      "metadata": {
        "id": "_ZtB0xWjuaLV",
        "outputId": "c6d7066f-d441-4957-d529-266fb7e44eb3"
      },
      "source": [
        "b[0:3] = 123"
      ],
      "execution_count": null,
      "outputs": [
        {
          "ename": "TypeError",
          "evalue": "can only assign an iterable",
          "output_type": "error",
          "traceback": [
            "\u001b[1;31m---------------------------------------------------------------------------\u001b[0m",
            "\u001b[1;31mTypeError\u001b[0m                                 Traceback (most recent call last)",
            "\u001b[1;32m<ipython-input-133-2795fd762556>\u001b[0m in \u001b[0;36m<module>\u001b[1;34m\u001b[0m\n\u001b[1;32m----> 1\u001b[1;33m \u001b[0mb\u001b[0m\u001b[1;33m[\u001b[0m\u001b[1;36m0\u001b[0m\u001b[1;33m:\u001b[0m\u001b[1;36m3\u001b[0m\u001b[1;33m]\u001b[0m \u001b[1;33m=\u001b[0m \u001b[1;36m123\u001b[0m\u001b[1;33m\u001b[0m\u001b[1;33m\u001b[0m\u001b[0m\n\u001b[0m",
            "\u001b[1;31mTypeError\u001b[0m: can only assign an iterable"
          ]
        }
      ]
    },
    {
      "cell_type": "code",
      "metadata": {
        "id": "rPlNgvdhuaLV"
      },
      "source": [
        ""
      ],
      "execution_count": null,
      "outputs": []
    },
    {
      "cell_type": "code",
      "metadata": {
        "id": "yL7SX0-TuaLW"
      },
      "source": [
        "x = np.array([[1, 2], [3, 4]], dtype=np.float64)"
      ],
      "execution_count": null,
      "outputs": []
    },
    {
      "cell_type": "code",
      "metadata": {
        "id": "qA84owZKuaLW"
      },
      "source": [
        "y = np.array([[5, 6], [7, 8]], dtype=np.float64)"
      ],
      "execution_count": null,
      "outputs": []
    },
    {
      "cell_type": "code",
      "metadata": {
        "id": "Z7Ep8HmhuaLW",
        "outputId": "e4b87d9e-95ee-42ea-aa9d-83b0171f2147"
      },
      "source": [
        "x"
      ],
      "execution_count": null,
      "outputs": [
        {
          "data": {
            "text/plain": [
              "array([[1., 2.],\n",
              "       [3., 4.]])"
            ]
          },
          "execution_count": 136,
          "metadata": {},
          "output_type": "execute_result"
        }
      ]
    },
    {
      "cell_type": "code",
      "metadata": {
        "id": "ihftmeqfuaLX",
        "outputId": "9019b298-aa1b-4f1c-cf48-f51e33807f32"
      },
      "source": [
        "y"
      ],
      "execution_count": null,
      "outputs": [
        {
          "data": {
            "text/plain": [
              "array([[5., 6.],\n",
              "       [7., 8.]])"
            ]
          },
          "execution_count": 137,
          "metadata": {},
          "output_type": "execute_result"
        }
      ]
    },
    {
      "cell_type": "code",
      "metadata": {
        "id": "v_67ygZ8uaLX",
        "outputId": "05c2a7aa-d463-4b2d-d744-26de6d301510"
      },
      "source": [
        "x.ndim, y.ndim"
      ],
      "execution_count": null,
      "outputs": [
        {
          "data": {
            "text/plain": [
              "(2, 2)"
            ]
          },
          "execution_count": 138,
          "metadata": {},
          "output_type": "execute_result"
        }
      ]
    },
    {
      "cell_type": "code",
      "metadata": {
        "id": "eybI96TuuaLX",
        "outputId": "bdd1eb5a-9540-4d68-8afc-879ac3e6b588"
      },
      "source": [
        "x + y"
      ],
      "execution_count": null,
      "outputs": [
        {
          "data": {
            "text/plain": [
              "array([[ 6.,  8.],\n",
              "       [10., 12.]])"
            ]
          },
          "execution_count": 139,
          "metadata": {},
          "output_type": "execute_result"
        }
      ]
    },
    {
      "cell_type": "code",
      "metadata": {
        "id": "1m8ILtjquaLX",
        "outputId": "ab1a3e19-f733-4b24-abf4-497a31fc8670"
      },
      "source": [
        "x - y"
      ],
      "execution_count": null,
      "outputs": [
        {
          "data": {
            "text/plain": [
              "array([[-4., -4.],\n",
              "       [-4., -4.]])"
            ]
          },
          "execution_count": 140,
          "metadata": {},
          "output_type": "execute_result"
        }
      ]
    },
    {
      "cell_type": "code",
      "metadata": {
        "id": "Nmux9bg5uaLY",
        "outputId": "8adae9ec-50ab-45a1-a573-e63489d95ed5"
      },
      "source": [
        "y - x"
      ],
      "execution_count": null,
      "outputs": [
        {
          "data": {
            "text/plain": [
              "array([[4., 4.],\n",
              "       [4., 4.]])"
            ]
          },
          "execution_count": 141,
          "metadata": {},
          "output_type": "execute_result"
        }
      ]
    },
    {
      "cell_type": "code",
      "metadata": {
        "id": "8dv6XS1WuaLY",
        "outputId": "63b94f7c-43fd-45f0-901d-14786fa80c4a"
      },
      "source": [
        "np.add(x, y)"
      ],
      "execution_count": null,
      "outputs": [
        {
          "data": {
            "text/plain": [
              "array([[ 6.,  8.],\n",
              "       [10., 12.]])"
            ]
          },
          "execution_count": 142,
          "metadata": {},
          "output_type": "execute_result"
        }
      ]
    },
    {
      "cell_type": "code",
      "metadata": {
        "id": "RB-iWfEhuaLZ",
        "outputId": "fd5d7461-a921-4496-cd72-d2149ff0138d"
      },
      "source": [
        "np.subtract(x, y)"
      ],
      "execution_count": null,
      "outputs": [
        {
          "data": {
            "text/plain": [
              "array([[-4., -4.],\n",
              "       [-4., -4.]])"
            ]
          },
          "execution_count": 143,
          "metadata": {},
          "output_type": "execute_result"
        }
      ]
    },
    {
      "cell_type": "code",
      "metadata": {
        "id": "o5MbAV5euaLZ",
        "outputId": "d1b0be79-85f8-4274-9aac-b69d4c0f0c38"
      },
      "source": [
        "np.subtract(y, x)"
      ],
      "execution_count": null,
      "outputs": [
        {
          "data": {
            "text/plain": [
              "array([[4., 4.],\n",
              "       [4., 4.]])"
            ]
          },
          "execution_count": 144,
          "metadata": {},
          "output_type": "execute_result"
        }
      ]
    },
    {
      "cell_type": "code",
      "metadata": {
        "id": "mhjDYzgVuaLZ",
        "outputId": "093a5e93-96f2-4773-f228-2c1950af2643"
      },
      "source": [
        "x * y"
      ],
      "execution_count": null,
      "outputs": [
        {
          "data": {
            "text/plain": [
              "array([[ 5., 12.],\n",
              "       [21., 32.]])"
            ]
          },
          "execution_count": 145,
          "metadata": {},
          "output_type": "execute_result"
        }
      ]
    },
    {
      "cell_type": "code",
      "metadata": {
        "id": "_rjmv6qquaLZ",
        "outputId": "f61ca2fe-5b22-4cc1-acee-1d161bfd87d4"
      },
      "source": [
        "x"
      ],
      "execution_count": null,
      "outputs": [
        {
          "data": {
            "text/plain": [
              "array([[1., 2.],\n",
              "       [3., 4.]])"
            ]
          },
          "execution_count": 146,
          "metadata": {},
          "output_type": "execute_result"
        }
      ]
    },
    {
      "cell_type": "code",
      "metadata": {
        "id": "3g4X4xdUuaLa",
        "outputId": "703ca099-0d85-45ce-bf97-3988e07ba68b"
      },
      "source": [
        "y"
      ],
      "execution_count": null,
      "outputs": [
        {
          "data": {
            "text/plain": [
              "array([[5., 6.],\n",
              "       [7., 8.]])"
            ]
          },
          "execution_count": 147,
          "metadata": {},
          "output_type": "execute_result"
        }
      ]
    },
    {
      "cell_type": "code",
      "metadata": {
        "id": "ngDzFdBuuaLa",
        "outputId": "35df7bb7-fd9e-4d39-8a08-45a3bfab13ec"
      },
      "source": [
        "np.multiply(x, y)"
      ],
      "execution_count": null,
      "outputs": [
        {
          "data": {
            "text/plain": [
              "array([[ 5., 12.],\n",
              "       [21., 32.]])"
            ]
          },
          "execution_count": 148,
          "metadata": {},
          "output_type": "execute_result"
        }
      ]
    },
    {
      "cell_type": "code",
      "metadata": {
        "id": "zfxrOtNouaLa"
      },
      "source": [
        ""
      ],
      "execution_count": null,
      "outputs": []
    },
    {
      "cell_type": "code",
      "metadata": {
        "id": "XM6w16fnuaLa"
      },
      "source": [
        "# dot product"
      ],
      "execution_count": null,
      "outputs": []
    },
    {
      "cell_type": "code",
      "metadata": {
        "id": "Tbm2h-J6uaLa",
        "outputId": "dc9216ab-8bf8-4395-9a67-e33254249285"
      },
      "source": [
        "x.dot(y)"
      ],
      "execution_count": null,
      "outputs": [
        {
          "data": {
            "text/plain": [
              "array([[19., 22.],\n",
              "       [43., 50.]])"
            ]
          },
          "execution_count": 150,
          "metadata": {},
          "output_type": "execute_result"
        }
      ]
    },
    {
      "cell_type": "code",
      "metadata": {
        "id": "-OkK4P-NuaLb",
        "outputId": "2ab1f05f-ab35-498d-c8b4-23d62eb4cb44"
      },
      "source": [
        "x, y"
      ],
      "execution_count": null,
      "outputs": [
        {
          "data": {
            "text/plain": [
              "(array([[1., 2.],\n",
              "        [3., 4.]]),\n",
              " array([[5., 6.],\n",
              "        [7., 8.]]))"
            ]
          },
          "execution_count": 151,
          "metadata": {},
          "output_type": "execute_result"
        }
      ]
    },
    {
      "cell_type": "code",
      "metadata": {
        "id": "2G1mLmtyuaLb",
        "outputId": "6860a91a-e0fe-4ff9-c744-dc195f984156"
      },
      "source": [
        "x / y"
      ],
      "execution_count": null,
      "outputs": [
        {
          "data": {
            "text/plain": [
              "array([[0.2       , 0.33333333],\n",
              "       [0.42857143, 0.5       ]])"
            ]
          },
          "execution_count": 152,
          "metadata": {},
          "output_type": "execute_result"
        }
      ]
    },
    {
      "cell_type": "code",
      "metadata": {
        "id": "nA6SdaeBuaLb",
        "outputId": "982d4a89-6086-4eae-dda0-8e6a657855d0"
      },
      "source": [
        "y / x"
      ],
      "execution_count": null,
      "outputs": [
        {
          "data": {
            "text/plain": [
              "array([[5.        , 3.        ],\n",
              "       [2.33333333, 2.        ]])"
            ]
          },
          "execution_count": 153,
          "metadata": {},
          "output_type": "execute_result"
        }
      ]
    },
    {
      "cell_type": "code",
      "metadata": {
        "id": "A7hpg3E7uaLb",
        "outputId": "e4c53531-e40b-4596-e103-10e25f441c32"
      },
      "source": [
        "x"
      ],
      "execution_count": null,
      "outputs": [
        {
          "data": {
            "text/plain": [
              "array([[1., 2.],\n",
              "       [3., 4.]])"
            ]
          },
          "execution_count": 154,
          "metadata": {},
          "output_type": "execute_result"
        }
      ]
    },
    {
      "cell_type": "code",
      "metadata": {
        "id": "VWlHM4kIuaLf",
        "outputId": "68cef35a-c54e-4872-e8a3-4c2809b6897f"
      },
      "source": [
        "print(np.sum(x)) # compute sum of all elements of the array"
      ],
      "execution_count": null,
      "outputs": [
        {
          "name": "stdout",
          "output_type": "stream",
          "text": [
            "10.0\n"
          ]
        }
      ]
    },
    {
      "cell_type": "code",
      "metadata": {
        "id": "BnsE_CTluaLg",
        "outputId": "d43b4483-3166-4d7e-9579-5b98f7961a45"
      },
      "source": [
        "print(np.sum(x, axis=0)) # compute sum of each column"
      ],
      "execution_count": null,
      "outputs": [
        {
          "name": "stdout",
          "output_type": "stream",
          "text": [
            "[4. 6.]\n"
          ]
        }
      ]
    },
    {
      "cell_type": "code",
      "metadata": {
        "id": "e2cHwr0LuaLg",
        "outputId": "d31dde10-1e1e-460b-cc34-40707c0ca6a9"
      },
      "source": [
        "print(np.sum(x, axis=1)) # compute sum of each row"
      ],
      "execution_count": null,
      "outputs": [
        {
          "name": "stdout",
          "output_type": "stream",
          "text": [
            "[3. 7.]\n"
          ]
        }
      ]
    },
    {
      "cell_type": "code",
      "metadata": {
        "id": "n9SJex0puaLh"
      },
      "source": [
        ""
      ],
      "execution_count": null,
      "outputs": []
    },
    {
      "cell_type": "code",
      "metadata": {
        "id": "as8RJahquaLh"
      },
      "source": [
        "arr = np.arange(15)"
      ],
      "execution_count": null,
      "outputs": []
    },
    {
      "cell_type": "code",
      "metadata": {
        "id": "_SGDw9BouaLh",
        "outputId": "e055e8d5-0523-48f1-e0c2-5b50a437a9f4"
      },
      "source": [
        "arr"
      ],
      "execution_count": null,
      "outputs": [
        {
          "data": {
            "text/plain": [
              "array([ 0,  1,  2,  3,  4,  5,  6,  7,  8,  9, 10, 11, 12, 13, 14])"
            ]
          },
          "execution_count": 160,
          "metadata": {},
          "output_type": "execute_result"
        }
      ]
    },
    {
      "cell_type": "code",
      "metadata": {
        "id": "M6Bhy_a8uaLh"
      },
      "source": [
        "arr = arr.reshape(3, 5)"
      ],
      "execution_count": null,
      "outputs": []
    },
    {
      "cell_type": "code",
      "metadata": {
        "id": "YBO3AedjuaLh",
        "outputId": "0b0ec666-1d25-4331-887f-e73320f84589"
      },
      "source": [
        "arr"
      ],
      "execution_count": null,
      "outputs": [
        {
          "data": {
            "text/plain": [
              "array([[ 0,  1,  2,  3,  4],\n",
              "       [ 5,  6,  7,  8,  9],\n",
              "       [10, 11, 12, 13, 14]])"
            ]
          },
          "execution_count": 165,
          "metadata": {},
          "output_type": "execute_result"
        }
      ]
    },
    {
      "cell_type": "code",
      "metadata": {
        "id": "ro2Rw43FuaLi",
        "outputId": "3ff67074-87a9-49ae-b486-181db9c6a9df"
      },
      "source": [
        "arr.T"
      ],
      "execution_count": null,
      "outputs": [
        {
          "data": {
            "text/plain": [
              "array([[ 0,  5, 10],\n",
              "       [ 1,  6, 11],\n",
              "       [ 2,  7, 12],\n",
              "       [ 3,  8, 13],\n",
              "       [ 4,  9, 14]])"
            ]
          },
          "execution_count": 166,
          "metadata": {},
          "output_type": "execute_result"
        }
      ]
    },
    {
      "cell_type": "code",
      "metadata": {
        "id": "3kwCgeAzuaLi",
        "outputId": "f6fccf8e-9487-4d09-f27a-f9f28a4b11fc"
      },
      "source": [
        "np.max(arr)"
      ],
      "execution_count": null,
      "outputs": [
        {
          "data": {
            "text/plain": [
              "14"
            ]
          },
          "execution_count": 167,
          "metadata": {},
          "output_type": "execute_result"
        }
      ]
    },
    {
      "cell_type": "code",
      "metadata": {
        "id": "9eWXQNpNuaLi",
        "outputId": "01723c2d-c91c-4590-e627-cf6d0e107b88"
      },
      "source": [
        "np.min(arr)"
      ],
      "execution_count": null,
      "outputs": [
        {
          "data": {
            "text/plain": [
              "0"
            ]
          },
          "execution_count": 168,
          "metadata": {},
          "output_type": "execute_result"
        }
      ]
    },
    {
      "cell_type": "code",
      "metadata": {
        "id": "1CAximQQuaLi",
        "outputId": "f9bd4ff6-052d-482d-8687-2389920a4051"
      },
      "source": [
        "x"
      ],
      "execution_count": null,
      "outputs": [
        {
          "data": {
            "text/plain": [
              "array([[1., 2.],\n",
              "       [3., 4.]])"
            ]
          },
          "execution_count": 169,
          "metadata": {},
          "output_type": "execute_result"
        }
      ]
    },
    {
      "cell_type": "code",
      "metadata": {
        "id": "smXHe0tQuaLj",
        "outputId": "b96333d1-20e3-4e21-a632-5a3984d4b64f"
      },
      "source": [
        "y"
      ],
      "execution_count": null,
      "outputs": [
        {
          "data": {
            "text/plain": [
              "array([[5., 6.],\n",
              "       [7., 8.]])"
            ]
          },
          "execution_count": 170,
          "metadata": {},
          "output_type": "execute_result"
        }
      ]
    },
    {
      "cell_type": "code",
      "metadata": {
        "id": "09lzTEjtuaLj",
        "outputId": "b4349bef-d4f1-4cdb-c01f-9876ee8341b5"
      },
      "source": [
        "np.maximum(x, y)"
      ],
      "execution_count": null,
      "outputs": [
        {
          "data": {
            "text/plain": [
              "array([[5., 6.],\n",
              "       [7., 8.]])"
            ]
          },
          "execution_count": 172,
          "metadata": {},
          "output_type": "execute_result"
        }
      ]
    },
    {
      "cell_type": "code",
      "metadata": {
        "id": "CX7DZpesuaLj"
      },
      "source": [
        "a = np.array([[1, 2], [2, 1]], dtype=np.float64)\n",
        "b = np.array([[2, 1], [1, 2]], dtype=np.float64)"
      ],
      "execution_count": null,
      "outputs": []
    },
    {
      "cell_type": "code",
      "metadata": {
        "id": "Jy03R5SruaLj",
        "outputId": "644f2014-7b6e-4843-853e-c7f8e9486491"
      },
      "source": [
        "np.maximum(a, b)"
      ],
      "execution_count": null,
      "outputs": [
        {
          "data": {
            "text/plain": [
              "array([[2., 2.],\n",
              "       [2., 2.]])"
            ]
          },
          "execution_count": 174,
          "metadata": {},
          "output_type": "execute_result"
        }
      ]
    },
    {
      "cell_type": "code",
      "metadata": {
        "id": "dEqgp7CmuaLk",
        "outputId": "7704a06a-f0ea-4850-a967-168d4a21243d"
      },
      "source": [
        "np.minimum(a, b)"
      ],
      "execution_count": null,
      "outputs": [
        {
          "data": {
            "text/plain": [
              "array([[1., 1.],\n",
              "       [1., 1.]])"
            ]
          },
          "execution_count": 175,
          "metadata": {},
          "output_type": "execute_result"
        }
      ]
    },
    {
      "cell_type": "code",
      "metadata": {
        "id": "-DE8SH_WuaLk",
        "outputId": "7ed95623-13b3-438b-aa78-f9126fd0357e"
      },
      "source": [
        "a"
      ],
      "execution_count": null,
      "outputs": [
        {
          "data": {
            "text/plain": [
              "array([[1., 2.],\n",
              "       [2., 1.]])"
            ]
          },
          "execution_count": 176,
          "metadata": {},
          "output_type": "execute_result"
        }
      ]
    },
    {
      "cell_type": "code",
      "metadata": {
        "id": "CxF3xFSjuaLk"
      },
      "source": [
        ""
      ],
      "execution_count": null,
      "outputs": []
    },
    {
      "cell_type": "code",
      "metadata": {
        "id": "PgCOEMz1uaLk",
        "outputId": "ed34d7dc-a111-4f2e-fba8-eda38f60f138"
      },
      "source": [
        "b"
      ],
      "execution_count": null,
      "outputs": [
        {
          "data": {
            "text/plain": [
              "array([[2., 1.],\n",
              "       [1., 2.]])"
            ]
          },
          "execution_count": 177,
          "metadata": {},
          "output_type": "execute_result"
        }
      ]
    },
    {
      "cell_type": "code",
      "metadata": {
        "id": "6giCWvZLuaLk"
      },
      "source": [
        "zeros_a = np.zeros_like(a)"
      ],
      "execution_count": null,
      "outputs": []
    },
    {
      "cell_type": "code",
      "metadata": {
        "id": "H_ZdeleEuaLl",
        "outputId": "839f1fa5-5c8a-4049-f20f-c09c56fdaaf7"
      },
      "source": [
        "zeros_a"
      ],
      "execution_count": null,
      "outputs": [
        {
          "data": {
            "text/plain": [
              "array([[0., 0.],\n",
              "       [0., 0.]])"
            ]
          },
          "execution_count": 179,
          "metadata": {},
          "output_type": "execute_result"
        }
      ]
    },
    {
      "cell_type": "code",
      "metadata": {
        "id": "WieVUWiEuaLl"
      },
      "source": [
        "ones_a = np.ones_like(a)"
      ],
      "execution_count": null,
      "outputs": []
    },
    {
      "cell_type": "code",
      "metadata": {
        "id": "mgB0lfGAuaLl",
        "outputId": "d0c1aab5-c095-4387-d629-e5e73d3def17"
      },
      "source": [
        "ones_a"
      ],
      "execution_count": null,
      "outputs": [
        {
          "data": {
            "text/plain": [
              "array([[1., 1.],\n",
              "       [1., 1.]])"
            ]
          },
          "execution_count": 181,
          "metadata": {},
          "output_type": "execute_result"
        }
      ]
    },
    {
      "cell_type": "code",
      "metadata": {
        "id": "xXGdI47buaLl",
        "outputId": "68d29631-d94c-46d4-8785-8a4c50358083"
      },
      "source": [
        "np.zeros((3, 3))"
      ],
      "execution_count": null,
      "outputs": [
        {
          "data": {
            "text/plain": [
              "array([[0., 0., 0.],\n",
              "       [0., 0., 0.],\n",
              "       [0., 0., 0.]])"
            ]
          },
          "execution_count": 183,
          "metadata": {},
          "output_type": "execute_result"
        }
      ]
    },
    {
      "cell_type": "code",
      "metadata": {
        "id": "MU9yUDxMuaLm",
        "outputId": "c3e0836d-e4b3-47d6-882c-3768f40256b8"
      },
      "source": [
        "a"
      ],
      "execution_count": null,
      "outputs": [
        {
          "data": {
            "text/plain": [
              "array([[1., 2.],\n",
              "       [2., 1.]])"
            ]
          },
          "execution_count": 184,
          "metadata": {},
          "output_type": "execute_result"
        }
      ]
    },
    {
      "cell_type": "code",
      "metadata": {
        "id": "IGwlQ-juuaLm"
      },
      "source": [
        "i = 10"
      ],
      "execution_count": null,
      "outputs": []
    },
    {
      "cell_type": "code",
      "metadata": {
        "id": "juPCLzr1uaLm"
      },
      "source": [
        ""
      ],
      "execution_count": null,
      "outputs": []
    },
    {
      "cell_type": "code",
      "metadata": {
        "id": "xssiSr2uuaLm"
      },
      "source": [
        ""
      ],
      "execution_count": null,
      "outputs": []
    },
    {
      "cell_type": "code",
      "metadata": {
        "id": "etgU4ksRuaLm",
        "outputId": "fe4117b2-d7fb-4f9a-8bb4-4c7aeabfd9d3"
      },
      "source": [
        "print(\"Cell 1\")\n",
        "\n",
        "print(\"Cell 2\")\n",
        "\n",
        "print(\"Cell 3\")"
      ],
      "execution_count": null,
      "outputs": [
        {
          "name": "stdout",
          "output_type": "stream",
          "text": [
            "Cell 1\n",
            "Cell 2\n",
            "Cell 3\n"
          ]
        }
      ]
    },
    {
      "cell_type": "code",
      "metadata": {
        "id": "OmPsyDVCuaLn",
        "outputId": "b3b34fad-cfaa-488d-9a57-c6a262c87446"
      },
      "source": [
        "ones_a\n",
        "\n",
        "np.zeros((3, 3))\n",
        "\n",
        "a"
      ],
      "execution_count": null,
      "outputs": [
        {
          "data": {
            "text/plain": [
              "array([[1., 2.],\n",
              "       [2., 1.]])"
            ]
          },
          "execution_count": 195,
          "metadata": {},
          "output_type": "execute_result"
        }
      ]
    },
    {
      "cell_type": "code",
      "metadata": {
        "id": "xWLAF2U7uaLn",
        "outputId": "0e6ab631-6d08-4499-cd5b-90ce4d4ce7d1"
      },
      "source": [
        "a = np.array([[1, 2], [2, 1]], dtype=np.float64)\n",
        "b = np.array([[2, 1], [1, 2]], dtype=np.float64)\n",
        "\n",
        "np.maximum(a, b)\n",
        "\n",
        "np.minimum(a, b)\n",
        "\n",
        "a\n",
        "\n",
        "\n",
        "\n",
        "b"
      ],
      "execution_count": null,
      "outputs": [
        {
          "data": {
            "text/plain": [
              "array([[2., 1.],\n",
              "       [1., 2.]])"
            ]
          },
          "execution_count": 196,
          "metadata": {},
          "output_type": "execute_result"
        }
      ]
    },
    {
      "cell_type": "code",
      "metadata": {
        "id": "6Sep2bDGuaLo",
        "outputId": "bc00a9af-ffd1-4395-9f83-72248d2466ba"
      },
      "source": [
        "a = np.arange(24)\n",
        "print(a)\n",
        "\n",
        "a.ndim\n"
      ],
      "execution_count": null,
      "outputs": [
        {
          "name": "stdout",
          "output_type": "stream",
          "text": [
            "[ 0  1  2  3  4  5  6  7  8  9 10 11 12 13 14 15 16 17 18 19 20 21 22 23]\n"
          ]
        },
        {
          "data": {
            "text/plain": [
              "1"
            ]
          },
          "execution_count": 198,
          "metadata": {},
          "output_type": "execute_result"
        }
      ]
    },
    {
      "cell_type": "code",
      "metadata": {
        "id": "6E8awntzuaLo",
        "outputId": "97610707-2f1a-4c88-891d-e2f11cfd7f9e"
      },
      "source": [
        "b = a.reshape(2, 4, 3)\n",
        "b.ndim"
      ],
      "execution_count": null,
      "outputs": [
        {
          "data": {
            "text/plain": [
              "3"
            ]
          },
          "execution_count": 203,
          "metadata": {},
          "output_type": "execute_result"
        }
      ]
    },
    {
      "cell_type": "code",
      "metadata": {
        "id": "kZyuHRaMuaLo",
        "outputId": "82f462d9-dc76-4dbd-a507-3be7b231db4e"
      },
      "source": [
        "b"
      ],
      "execution_count": null,
      "outputs": [
        {
          "data": {
            "text/plain": [
              "array([[[ 0,  1,  2],\n",
              "        [ 3,  4,  5],\n",
              "        [ 6,  7,  8],\n",
              "        [ 9, 10, 11]],\n",
              "\n",
              "       [[12, 13, 14],\n",
              "        [15, 16, 17],\n",
              "        [18, 19, 20],\n",
              "        [21, 22, 23]]])"
            ]
          },
          "execution_count": 204,
          "metadata": {},
          "output_type": "execute_result"
        }
      ]
    },
    {
      "cell_type": "code",
      "metadata": {
        "id": "u2YTVASEuaLo",
        "outputId": "66a125ed-2472-4ab8-ccee-4d8d73353197"
      },
      "source": [
        "b[0][1][0]"
      ],
      "execution_count": null,
      "outputs": [
        {
          "data": {
            "text/plain": [
              "3"
            ]
          },
          "execution_count": 205,
          "metadata": {},
          "output_type": "execute_result"
        }
      ]
    },
    {
      "cell_type": "code",
      "metadata": {
        "id": "NmWtx_27uaLq",
        "outputId": "e6e687c3-9a61-4c93-c42d-d232c3386974"
      },
      "source": [
        "b[1][1][0]"
      ],
      "execution_count": null,
      "outputs": [
        {
          "data": {
            "text/plain": [
              "15"
            ]
          },
          "execution_count": 206,
          "metadata": {},
          "output_type": "execute_result"
        }
      ]
    },
    {
      "cell_type": "code",
      "metadata": {
        "id": "yjUUQdzuuaLq",
        "outputId": "08a5317c-f406-46d2-994e-7dd822e6e91e"
      },
      "source": [
        "for x in range(0, 2):\n",
        "    for y in range(0, 4):\n",
        "        for z in range(0, 3):\n",
        "            print(b[x][y][z])"
      ],
      "execution_count": null,
      "outputs": [
        {
          "name": "stdout",
          "output_type": "stream",
          "text": [
            "0\n",
            "1\n",
            "2\n",
            "3\n",
            "4\n",
            "5\n",
            "6\n",
            "7\n",
            "8\n",
            "9\n",
            "10\n",
            "11\n",
            "12\n",
            "13\n",
            "14\n",
            "15\n",
            "16\n",
            "17\n",
            "18\n",
            "19\n",
            "20\n",
            "21\n",
            "22\n",
            "23\n"
          ]
        }
      ]
    },
    {
      "cell_type": "code",
      "metadata": {
        "id": "RCTHIWS-uaLq"
      },
      "source": [
        "c = a.reshape(2, 2, 3, 2)"
      ],
      "execution_count": null,
      "outputs": []
    },
    {
      "cell_type": "code",
      "metadata": {
        "id": "Ls332w-FuaLr",
        "outputId": "d13a6bc9-4d70-4a48-d021-dd76d384ef1b"
      },
      "source": [
        "c"
      ],
      "execution_count": null,
      "outputs": [
        {
          "data": {
            "text/plain": [
              "array([[[[ 0,  1],\n",
              "         [ 2,  3],\n",
              "         [ 4,  5]],\n",
              "\n",
              "        [[ 6,  7],\n",
              "         [ 8,  9],\n",
              "         [10, 11]]],\n",
              "\n",
              "\n",
              "       [[[12, 13],\n",
              "         [14, 15],\n",
              "         [16, 17]],\n",
              "\n",
              "        [[18, 19],\n",
              "         [20, 21],\n",
              "         [22, 23]]]])"
            ]
          },
          "execution_count": 209,
          "metadata": {},
          "output_type": "execute_result"
        }
      ]
    },
    {
      "cell_type": "code",
      "metadata": {
        "id": "ZJf8Z9KXuaLr",
        "outputId": "c7783e54-870f-4246-ada1-61f478504de5"
      },
      "source": [
        "c.ndim"
      ],
      "execution_count": null,
      "outputs": [
        {
          "data": {
            "text/plain": [
              "4"
            ]
          },
          "execution_count": 210,
          "metadata": {},
          "output_type": "execute_result"
        }
      ]
    },
    {
      "cell_type": "code",
      "metadata": {
        "id": "qa6FrGQCuaLr",
        "outputId": "b86fd90f-7502-4d7f-bdb0-ed4df7788209"
      },
      "source": [
        "c[1][0][0][0]"
      ],
      "execution_count": null,
      "outputs": [
        {
          "data": {
            "text/plain": [
              "12"
            ]
          },
          "execution_count": 211,
          "metadata": {},
          "output_type": "execute_result"
        }
      ]
    },
    {
      "cell_type": "code",
      "metadata": {
        "id": "kcU1c5h0uaLs"
      },
      "source": [
        ""
      ],
      "execution_count": null,
      "outputs": []
    }
  ]
}