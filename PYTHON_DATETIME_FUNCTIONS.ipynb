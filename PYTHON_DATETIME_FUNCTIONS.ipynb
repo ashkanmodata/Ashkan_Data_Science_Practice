{
  "nbformat": 4,
  "nbformat_minor": 0,
  "metadata": {
    "colab": {
      "name": " PYTHON DATETIME FUNCTIONS.ipynb",
      "provenance": [],
      "authorship_tag": "ABX9TyNF/sXVx1pWITfytnss+h5U",
      "include_colab_link": true
    },
    "kernelspec": {
      "name": "python3",
      "display_name": "Python 3"
    },
    "language_info": {
      "name": "python"
    }
  },
  "cells": [
    {
      "cell_type": "markdown",
      "metadata": {
        "id": "view-in-github",
        "colab_type": "text"
      },
      "source": [
        "<a href=\"https://colab.research.google.com/github/ashkanmulla/DataScience_13_September/blob/main/PYTHON_DATETIME_FUNCTIONS.ipynb\" target=\"_parent\"><img src=\"https://colab.research.google.com/assets/colab-badge.svg\" alt=\"Open In Colab\"/></a>"
      ]
    },
    {
      "cell_type": "code",
      "metadata": {
        "id": "hqbDlHfEQPQR"
      },
      "source": [
        "import datetime"
      ],
      "execution_count": 1,
      "outputs": []
    },
    {
      "cell_type": "code",
      "metadata": {
        "colab": {
          "base_uri": "https://localhost:8080/"
        },
        "id": "sJI8IyP1Qfa3",
        "outputId": "26677e15-2b31-4082-ff50-3fa2cdced13d"
      },
      "source": [
        "datetime.date.today()"
      ],
      "execution_count": 4,
      "outputs": [
        {
          "output_type": "execute_result",
          "data": {
            "text/plain": [
              "datetime.date(2021, 9, 21)"
            ]
          },
          "metadata": {},
          "execution_count": 4
        }
      ]
    },
    {
      "cell_type": "code",
      "metadata": {
        "colab": {
          "base_uri": "https://localhost:8080/"
        },
        "id": "tQJdn0BWQo3z",
        "outputId": "df6e0bff-a7d3-41cf-8647-13165f3b7c1b"
      },
      "source": [
        "print(datetime.date.today())"
      ],
      "execution_count": 5,
      "outputs": [
        {
          "output_type": "stream",
          "name": "stdout",
          "text": [
            "2021-09-21\n"
          ]
        }
      ]
    },
    {
      "cell_type": "code",
      "metadata": {
        "colab": {
          "base_uri": "https://localhost:8080/"
        },
        "id": "Yf0_ZRTOQ3rK",
        "outputId": "bd7075db-fb3d-47b4-b3ef-d358c42e2cd5"
      },
      "source": [
        "dt = datetime.date(2019, 10, 20)\n",
        "\n",
        "print(dt)"
      ],
      "execution_count": 7,
      "outputs": [
        {
          "output_type": "stream",
          "name": "stdout",
          "text": [
            "2019-10-20\n"
          ]
        }
      ]
    },
    {
      "cell_type": "code",
      "metadata": {
        "colab": {
          "base_uri": "https://localhost:8080/"
        },
        "id": "ziB9jIqLRCd2",
        "outputId": "7787edb2-e04c-40fe-e482-b2c6cafc4bd3"
      },
      "source": [
        "dt.day"
      ],
      "execution_count": 8,
      "outputs": [
        {
          "output_type": "execute_result",
          "data": {
            "text/plain": [
              "20"
            ]
          },
          "metadata": {},
          "execution_count": 8
        }
      ]
    },
    {
      "cell_type": "code",
      "metadata": {
        "colab": {
          "base_uri": "https://localhost:8080/"
        },
        "id": "dGN6X7r1Rf6w",
        "outputId": "716f2f34-3600-4341-8fc2-93977bbe30d7"
      },
      "source": [
        "dt.month"
      ],
      "execution_count": 9,
      "outputs": [
        {
          "output_type": "execute_result",
          "data": {
            "text/plain": [
              "10"
            ]
          },
          "metadata": {},
          "execution_count": 9
        }
      ]
    },
    {
      "cell_type": "code",
      "metadata": {
        "colab": {
          "base_uri": "https://localhost:8080/"
        },
        "id": "GicdXkaWRiGv",
        "outputId": "8b94be3f-e953-4059-f650-d563265e52e7"
      },
      "source": [
        "dt.year"
      ],
      "execution_count": 10,
      "outputs": [
        {
          "output_type": "execute_result",
          "data": {
            "text/plain": [
              "2019"
            ]
          },
          "metadata": {},
          "execution_count": 10
        }
      ]
    },
    {
      "cell_type": "code",
      "metadata": {
        "colab": {
          "base_uri": "https://localhost:8080/",
          "height": 35
        },
        "id": "1DnT2FjHRkl8",
        "outputId": "cb812d4d-30fb-4b0c-8c77-e0cdcf6ccdd4"
      },
      "source": [
        "dt.strftime(\"%d-%m-%Y\")"
      ],
      "execution_count": 11,
      "outputs": [
        {
          "output_type": "execute_result",
          "data": {
            "application/vnd.google.colaboratory.intrinsic+json": {
              "type": "string"
            },
            "text/plain": [
              "'20-10-2019'"
            ]
          },
          "metadata": {},
          "execution_count": 11
        }
      ]
    },
    {
      "cell_type": "code",
      "metadata": {
        "colab": {
          "base_uri": "https://localhost:8080/",
          "height": 53
        },
        "id": "bhQUkuixRoxB",
        "outputId": "552676fd-6863-484d-e248-9c4b101f2c21"
      },
      "source": [
        "'''dt.strftime(\"%d/%m/%Y\")\n",
        "20/10/2019\n",
        "\n",
        "dt.strftime(\"%b %d, %Y\")\n",
        "Oct 20, 2019\n",
        "\n",
        "dt.strftime(\"%B %d, %Y\")\n",
        "October 20, 2019\n",
        "\n",
        "dt.strftime(\"%a %B %d, %Y\")\n",
        "Sun October 20, 2019\n",
        "\n",
        "dt.strftime(\"%A %B %d, %Y\")\n",
        "Sunday October 20, 2019\n",
        "\n",
        "dt.strftime(\"%A, %B %d, %Y\")\n",
        "Sunday, October 20, 2019'''"
      ],
      "execution_count": 12,
      "outputs": [
        {
          "output_type": "execute_result",
          "data": {
            "application/vnd.google.colaboratory.intrinsic+json": {
              "type": "string"
            },
            "text/plain": [
              "'dt.strftime(\"%d/%m/%Y\")\\n20/10/2019\\n\\ndt.strftime(\"%b %d, %Y\")\\nOct 20, 2019\\n\\ndt.strftime(\"%B %d, %Y\")\\nOctober 20, 2019\\n\\ndt.strftime(\"%a %B %d, %Y\")\\nSun October 20, 2019\\n\\ndt.strftime(\"%A %B %d, %Y\")\\nSunday October 20, 2019\\n\\ndt.strftime(\"%A, %B %d, %Y\")\\nSunday, October 20, 2019'"
            ]
          },
          "metadata": {},
          "execution_count": 12
        }
      ]
    },
    {
      "cell_type": "code",
      "metadata": {
        "id": "C1evn4ACST_B"
      },
      "source": [
        "#Time"
      ],
      "execution_count": 13,
      "outputs": []
    },
    {
      "cell_type": "code",
      "metadata": {
        "colab": {
          "base_uri": "https://localhost:8080/"
        },
        "id": "eIja6xWoSbGp",
        "outputId": "83df04f1-98b3-4540-f1c3-21adbc9f1766"
      },
      "source": [
        "t = datetime.time(21, 2, 3)\n",
        "print(t)"
      ],
      "execution_count": 14,
      "outputs": [
        {
          "output_type": "stream",
          "name": "stdout",
          "text": [
            "21:02:03\n"
          ]
        }
      ]
    },
    {
      "cell_type": "code",
      "metadata": {
        "colab": {
          "base_uri": "https://localhost:8080/"
        },
        "id": "xj7PsK1wSb66",
        "outputId": "6e792ae8-a120-4442-b375-ad358f773f60"
      },
      "source": [
        "t.hour"
      ],
      "execution_count": 15,
      "outputs": [
        {
          "output_type": "execute_result",
          "data": {
            "text/plain": [
              "21"
            ]
          },
          "metadata": {},
          "execution_count": 15
        }
      ]
    },
    {
      "cell_type": "code",
      "metadata": {
        "colab": {
          "base_uri": "https://localhost:8080/"
        },
        "id": "9NVWuIYESevN",
        "outputId": "bc866a25-8aa3-44ad-f9d8-5f8e4f923253"
      },
      "source": [
        "t.minute"
      ],
      "execution_count": 16,
      "outputs": [
        {
          "output_type": "execute_result",
          "data": {
            "text/plain": [
              "2"
            ]
          },
          "metadata": {},
          "execution_count": 16
        }
      ]
    },
    {
      "cell_type": "code",
      "metadata": {
        "colab": {
          "base_uri": "https://localhost:8080/"
        },
        "id": "aIxytStZShDz",
        "outputId": "853ff96a-9440-4e16-a6a0-4b757ec48961"
      },
      "source": [
        "t.second"
      ],
      "execution_count": 17,
      "outputs": [
        {
          "output_type": "execute_result",
          "data": {
            "text/plain": [
              "3"
            ]
          },
          "metadata": {},
          "execution_count": 17
        }
      ]
    },
    {
      "cell_type": "code",
      "metadata": {
        "colab": {
          "base_uri": "https://localhost:8080/"
        },
        "id": "Lg9vwLpvSiz4",
        "outputId": "d100f9fb-94f9-45c0-e986-bcdb91abb80a"
      },
      "source": [
        "t.microsecond"
      ],
      "execution_count": 18,
      "outputs": [
        {
          "output_type": "execute_result",
          "data": {
            "text/plain": [
              "0"
            ]
          },
          "metadata": {},
          "execution_count": 18
        }
      ]
    },
    {
      "cell_type": "code",
      "metadata": {
        "id": "MsItpn4wSllk"
      },
      "source": [
        "#How to convert time to AM PM format\n",
        "#%I converts 24 hour time format to 12 hour format.\n",
        "#%p returns AM PM based on time values.\n",
        "#%H returns hours of the time value.\n",
        "#%M returns minutes of the time value.\n",
        "#%S returns seconds of the time value."
      ],
      "execution_count": 19,
      "outputs": []
    },
    {
      "cell_type": "code",
      "metadata": {
        "colab": {
          "base_uri": "https://localhost:8080/",
          "height": 35
        },
        "id": "S0aq_SGpTEUy",
        "outputId": "28687edc-6b87-4484-b038-5dfc375bdc9f"
      },
      "source": [
        "t.strftime(\"%I:%M %p\")"
      ],
      "execution_count": 20,
      "outputs": [
        {
          "output_type": "execute_result",
          "data": {
            "application/vnd.google.colaboratory.intrinsic+json": {
              "type": "string"
            },
            "text/plain": [
              "'09:02 PM'"
            ]
          },
          "metadata": {},
          "execution_count": 20
        }
      ]
    },
    {
      "cell_type": "code",
      "metadata": {
        "id": "G9TipFujTJot"
      },
      "source": [
        "#Handle both date and time"
      ],
      "execution_count": 21,
      "outputs": []
    },
    {
      "cell_type": "code",
      "metadata": {
        "colab": {
          "base_uri": "https://localhost:8080/"
        },
        "id": "veYGm4Z3TPVB",
        "outputId": "9b8be88a-7463-4d43-c05b-83ad8c0e1a85"
      },
      "source": [
        "dt = datetime.datetime.now()\n",
        "print(dt)"
      ],
      "execution_count": 22,
      "outputs": [
        {
          "output_type": "stream",
          "name": "stdout",
          "text": [
            "2021-09-21 12:20:23.311622\n"
          ]
        }
      ]
    },
    {
      "cell_type": "code",
      "metadata": {
        "id": "zusCY5fwTQDC"
      },
      "source": [
        "'''%c represents locale date and time. %X represents locale time.\n",
        "dt.strftime(\"%c\")\n",
        "Sat Jul 20 17:05:05 2019\n",
        "\n",
        "dt.strftime(\"%A %B %d %X\")\n",
        "Saturday July 20 17:05:05\n",
        "\n",
        "dt.strftime(\"%A %B %d %H:%M\")\n",
        "Saturday July 20 17:05'''"
      ],
      "execution_count": null,
      "outputs": []
    },
    {
      "cell_type": "code",
      "metadata": {
        "colab": {
          "base_uri": "https://localhost:8080/"
        },
        "id": "Kjx2v3iSTXst",
        "outputId": "c9857b2e-6f79-4178-8287-574f05abf5f1"
      },
      "source": [
        "dt = datetime.datetime(2019, 7, 20, 10, 51, 0)\n",
        "print(dt)"
      ],
      "execution_count": 23,
      "outputs": [
        {
          "output_type": "stream",
          "name": "stdout",
          "text": [
            "2019-07-20 10:51:00\n"
          ]
        }
      ]
    },
    {
      "cell_type": "code",
      "metadata": {
        "colab": {
          "base_uri": "https://localhost:8080/",
          "height": 35
        },
        "id": "Ti1O1WUUTc5z",
        "outputId": "5ac6038b-1ed8-48c1-e1ec-95e188cd923b"
      },
      "source": [
        "dt.strftime('%d-%m-%Y %H-%M')"
      ],
      "execution_count": 24,
      "outputs": [
        {
          "output_type": "execute_result",
          "data": {
            "application/vnd.google.colaboratory.intrinsic+json": {
              "type": "string"
            },
            "text/plain": [
              "'20-07-2019 10-51'"
            ]
          },
          "metadata": {},
          "execution_count": 24
        }
      ]
    },
    {
      "cell_type": "code",
      "metadata": {
        "colab": {
          "base_uri": "https://localhost:8080/"
        },
        "id": "icTD69RtTfAC",
        "outputId": "d2ab221d-d4c8-4f8e-d977-c839d7a6b88e"
      },
      "source": [
        "from dateutil.parser import parse\n",
        "print(parse('March 01, 2019'))\n"
      ],
      "execution_count": 25,
      "outputs": [
        {
          "output_type": "stream",
          "name": "stdout",
          "text": [
            "2019-03-01 00:00:00\n"
          ]
        }
      ]
    },
    {
      "cell_type": "code",
      "metadata": {
        "colab": {
          "base_uri": "https://localhost:8080/"
        },
        "id": "mJYP4DitTi82",
        "outputId": "1f7d45dc-f2ee-427d-88dc-d7575b11ee74"
      },
      "source": [
        "print(dt.time())"
      ],
      "execution_count": 26,
      "outputs": [
        {
          "output_type": "stream",
          "name": "stdout",
          "text": [
            "10:51:00\n"
          ]
        }
      ]
    },
    {
      "cell_type": "code",
      "metadata": {
        "id": "M_L5J8ySTlY8"
      },
      "source": [
        ""
      ],
      "execution_count": null,
      "outputs": []
    }
  ]
}