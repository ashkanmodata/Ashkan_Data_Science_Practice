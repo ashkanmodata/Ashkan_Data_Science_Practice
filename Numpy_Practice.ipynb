{
  "nbformat": 4,
  "nbformat_minor": 0,
  "metadata": {
    "colab": {
      "name": "Numpy_Practice.ipynb",
      "provenance": [],
      "authorship_tag": "ABX9TyPJHvhp4ruEmQ1VLYQABRiQ",
      "include_colab_link": true
    },
    "kernelspec": {
      "name": "python3",
      "display_name": "Python 3"
    },
    "language_info": {
      "name": "python"
    }
  },
  "cells": [
    {
      "cell_type": "markdown",
      "metadata": {
        "id": "view-in-github",
        "colab_type": "text"
      },
      "source": [
        "<a href=\"https://colab.research.google.com/github/ashkanmulla/Ashkan_Data_Science_Practice/blob/main/Numpy_Practice.ipynb\" target=\"_parent\"><img src=\"https://colab.research.google.com/assets/colab-badge.svg\" alt=\"Open In Colab\"/></a>"
      ]
    },
    {
      "cell_type": "code",
      "metadata": {
        "id": "ofC3EIMnzLCI"
      },
      "source": [
        "import numpy as np"
      ],
      "execution_count": 79,
      "outputs": []
    },
    {
      "cell_type": "code",
      "metadata": {
        "id": "axdItMFQ0iGn"
      },
      "source": [
        "l1 = [1,2,3,4]"
      ],
      "execution_count": 80,
      "outputs": []
    },
    {
      "cell_type": "code",
      "metadata": {
        "id": "hAPfSOiU0kkc"
      },
      "source": [
        "n1 = np.array(l1)"
      ],
      "execution_count": 81,
      "outputs": []
    },
    {
      "cell_type": "code",
      "metadata": {
        "colab": {
          "base_uri": "https://localhost:8080/"
        },
        "id": "qfbTDXPJ0nP_",
        "outputId": "b989adc0-e241-4a85-c8ab-582a56d574eb"
      },
      "source": [
        "type(n1)"
      ],
      "execution_count": 82,
      "outputs": [
        {
          "output_type": "execute_result",
          "data": {
            "text/plain": [
              "numpy.ndarray"
            ]
          },
          "metadata": {},
          "execution_count": 82
        }
      ]
    },
    {
      "cell_type": "code",
      "metadata": {
        "id": "zkXEg9Ny0uRJ"
      },
      "source": [
        "n2 = np.array([[1,2,3,4],[4,3,2,1]])"
      ],
      "execution_count": 83,
      "outputs": []
    },
    {
      "cell_type": "code",
      "metadata": {
        "colab": {
          "base_uri": "https://localhost:8080/"
        },
        "id": "yrLuQYLN1KL_",
        "outputId": "2ef41fab-e4b3-4948-f7bf-f443f2ab5bf6"
      },
      "source": [
        "n2"
      ],
      "execution_count": 84,
      "outputs": [
        {
          "output_type": "execute_result",
          "data": {
            "text/plain": [
              "array([[1, 2, 3, 4],\n",
              "       [4, 3, 2, 1]])"
            ]
          },
          "metadata": {},
          "execution_count": 84
        }
      ]
    },
    {
      "cell_type": "code",
      "metadata": {
        "colab": {
          "base_uri": "https://localhost:8080/"
        },
        "id": "HrdVcpN71LMw",
        "outputId": "93da311f-0e82-43d7-d313-b5e05db0696c"
      },
      "source": [
        "type(n2)"
      ],
      "execution_count": 85,
      "outputs": [
        {
          "output_type": "execute_result",
          "data": {
            "text/plain": [
              "numpy.ndarray"
            ]
          },
          "metadata": {},
          "execution_count": 85
        }
      ]
    },
    {
      "cell_type": "code",
      "metadata": {
        "id": "3R_oB18p1NUv"
      },
      "source": [
        "# Initializing Numpy array with zero"
      ],
      "execution_count": 86,
      "outputs": []
    },
    {
      "cell_type": "code",
      "metadata": {
        "id": "dt9k1O0w1foc"
      },
      "source": [
        "import numpy as np"
      ],
      "execution_count": 87,
      "outputs": []
    },
    {
      "cell_type": "code",
      "metadata": {
        "id": "bBTw1OXm2arG"
      },
      "source": [
        "n1 = np.zeros((1,2))"
      ],
      "execution_count": 88,
      "outputs": []
    },
    {
      "cell_type": "code",
      "metadata": {
        "colab": {
          "base_uri": "https://localhost:8080/"
        },
        "id": "Fi4UjFWg2fr5",
        "outputId": "257f7c25-8fa2-4014-fa2a-96d4d77f8f41"
      },
      "source": [
        "n1"
      ],
      "execution_count": 89,
      "outputs": [
        {
          "output_type": "execute_result",
          "data": {
            "text/plain": [
              "array([[0., 0.]])"
            ]
          },
          "metadata": {},
          "execution_count": 89
        }
      ]
    },
    {
      "cell_type": "code",
      "metadata": {
        "id": "ss2CO-Y52k8m"
      },
      "source": [
        "n1 = np.zeros((5,5))"
      ],
      "execution_count": 90,
      "outputs": []
    },
    {
      "cell_type": "code",
      "metadata": {
        "colab": {
          "base_uri": "https://localhost:8080/"
        },
        "id": "dts5XulV2qGN",
        "outputId": "d565603f-8d6d-406c-f44b-5cc68be81c26"
      },
      "source": [
        "n1"
      ],
      "execution_count": 91,
      "outputs": [
        {
          "output_type": "execute_result",
          "data": {
            "text/plain": [
              "array([[0., 0., 0., 0., 0.],\n",
              "       [0., 0., 0., 0., 0.],\n",
              "       [0., 0., 0., 0., 0.],\n",
              "       [0., 0., 0., 0., 0.],\n",
              "       [0., 0., 0., 0., 0.]])"
            ]
          },
          "metadata": {},
          "execution_count": 91
        }
      ]
    },
    {
      "cell_type": "code",
      "metadata": {
        "id": "Jdt5mUQk2qvN"
      },
      "source": [
        "n3 = np.zeros((2,3))"
      ],
      "execution_count": 92,
      "outputs": []
    },
    {
      "cell_type": "code",
      "metadata": {
        "colab": {
          "base_uri": "https://localhost:8080/"
        },
        "id": "R37r41Jq245X",
        "outputId": "92e8e9a4-71a4-43ac-c9b4-612f383925d9"
      },
      "source": [
        "n3"
      ],
      "execution_count": 93,
      "outputs": [
        {
          "output_type": "execute_result",
          "data": {
            "text/plain": [
              "array([[0., 0., 0.],\n",
              "       [0., 0., 0.]])"
            ]
          },
          "metadata": {},
          "execution_count": 93
        }
      ]
    },
    {
      "cell_type": "code",
      "metadata": {
        "id": "dsnGLgUV25bd"
      },
      "source": [
        "n4 = np.zeros((10,10))"
      ],
      "execution_count": 94,
      "outputs": []
    },
    {
      "cell_type": "code",
      "metadata": {
        "colab": {
          "base_uri": "https://localhost:8080/"
        },
        "id": "0c6GaAq928xt",
        "outputId": "71a48fe5-8c48-4313-f936-a37af2b25f35"
      },
      "source": [
        "n4"
      ],
      "execution_count": 95,
      "outputs": [
        {
          "output_type": "execute_result",
          "data": {
            "text/plain": [
              "array([[0., 0., 0., 0., 0., 0., 0., 0., 0., 0.],\n",
              "       [0., 0., 0., 0., 0., 0., 0., 0., 0., 0.],\n",
              "       [0., 0., 0., 0., 0., 0., 0., 0., 0., 0.],\n",
              "       [0., 0., 0., 0., 0., 0., 0., 0., 0., 0.],\n",
              "       [0., 0., 0., 0., 0., 0., 0., 0., 0., 0.],\n",
              "       [0., 0., 0., 0., 0., 0., 0., 0., 0., 0.],\n",
              "       [0., 0., 0., 0., 0., 0., 0., 0., 0., 0.],\n",
              "       [0., 0., 0., 0., 0., 0., 0., 0., 0., 0.],\n",
              "       [0., 0., 0., 0., 0., 0., 0., 0., 0., 0.],\n",
              "       [0., 0., 0., 0., 0., 0., 0., 0., 0., 0.]])"
            ]
          },
          "metadata": {},
          "execution_count": 95
        }
      ]
    },
    {
      "cell_type": "code",
      "metadata": {
        "id": "pwUeSNqS3QYO"
      },
      "source": [
        "#Initializing Numpy array with same number"
      ],
      "execution_count": 96,
      "outputs": []
    },
    {
      "cell_type": "code",
      "metadata": {
        "id": "QTCtkXIC29Si"
      },
      "source": [
        "n5 = np.full((3,3),55)"
      ],
      "execution_count": 97,
      "outputs": []
    },
    {
      "cell_type": "code",
      "metadata": {
        "colab": {
          "base_uri": "https://localhost:8080/"
        },
        "id": "lSng_E1a3LrO",
        "outputId": "a0386a4a-e6e1-4cc2-cc1e-01bacd271fc5"
      },
      "source": [
        "n5"
      ],
      "execution_count": 98,
      "outputs": [
        {
          "output_type": "execute_result",
          "data": {
            "text/plain": [
              "array([[55, 55, 55],\n",
              "       [55, 55, 55],\n",
              "       [55, 55, 55]])"
            ]
          },
          "metadata": {},
          "execution_count": 98
        }
      ]
    },
    {
      "cell_type": "code",
      "metadata": {
        "id": "ldrqe4Vs3Miv"
      },
      "source": [
        " #Initializing Numpy array within a range"
      ],
      "execution_count": 99,
      "outputs": []
    },
    {
      "cell_type": "code",
      "metadata": {
        "id": "8DuE3skO3gKH"
      },
      "source": [
        "n6 = np.arange(10,20)"
      ],
      "execution_count": 100,
      "outputs": []
    },
    {
      "cell_type": "code",
      "metadata": {
        "colab": {
          "base_uri": "https://localhost:8080/"
        },
        "id": "xgeHMRGD3s9x",
        "outputId": "9feaa4ed-668a-43a0-dce8-4845d5990d18"
      },
      "source": [
        "n6"
      ],
      "execution_count": 101,
      "outputs": [
        {
          "output_type": "execute_result",
          "data": {
            "text/plain": [
              "array([10, 11, 12, 13, 14, 15, 16, 17, 18, 19])"
            ]
          },
          "metadata": {},
          "execution_count": 101
        }
      ]
    },
    {
      "cell_type": "code",
      "metadata": {
        "id": "aGlsuYZl3xNn"
      },
      "source": [
        "import numpy as np"
      ],
      "execution_count": 102,
      "outputs": []
    },
    {
      "cell_type": "code",
      "metadata": {
        "id": "sg1f2zWr35jH"
      },
      "source": [
        "n1 = np.arange(50,200,2)"
      ],
      "execution_count": 103,
      "outputs": []
    },
    {
      "cell_type": "code",
      "metadata": {
        "colab": {
          "base_uri": "https://localhost:8080/"
        },
        "id": "-pQW-TGC4BKQ",
        "outputId": "e63d24ed-0820-4b26-e55a-f50d4cede4e7"
      },
      "source": [
        "n1"
      ],
      "execution_count": 104,
      "outputs": [
        {
          "output_type": "execute_result",
          "data": {
            "text/plain": [
              "array([ 50,  52,  54,  56,  58,  60,  62,  64,  66,  68,  70,  72,  74,\n",
              "        76,  78,  80,  82,  84,  86,  88,  90,  92,  94,  96,  98, 100,\n",
              "       102, 104, 106, 108, 110, 112, 114, 116, 118, 120, 122, 124, 126,\n",
              "       128, 130, 132, 134, 136, 138, 140, 142, 144, 146, 148, 150, 152,\n",
              "       154, 156, 158, 160, 162, 164, 166, 168, 170, 172, 174, 176, 178,\n",
              "       180, 182, 184, 186, 188, 190, 192, 194, 196, 198])"
            ]
          },
          "metadata": {},
          "execution_count": 104
        }
      ]
    },
    {
      "cell_type": "code",
      "metadata": {
        "id": "BROGZHEU4Bwd"
      },
      "source": [
        "#Initializing Numpy array with random number"
      ],
      "execution_count": 105,
      "outputs": []
    },
    {
      "cell_type": "code",
      "metadata": {
        "id": "yHshHWcW4Vzw"
      },
      "source": [
        "import numpy as np"
      ],
      "execution_count": 106,
      "outputs": []
    },
    {
      "cell_type": "code",
      "metadata": {
        "id": "IbdOBmSG41i0"
      },
      "source": [
        "n1 = np.random.randint(1,5)"
      ],
      "execution_count": 107,
      "outputs": []
    },
    {
      "cell_type": "code",
      "metadata": {
        "colab": {
          "base_uri": "https://localhost:8080/"
        },
        "id": "pF8Yg_UT466y",
        "outputId": "987fc575-3cc1-44b0-bc5f-542ad48b80e6"
      },
      "source": [
        "n1"
      ],
      "execution_count": 108,
      "outputs": [
        {
          "output_type": "execute_result",
          "data": {
            "text/plain": [
              "1"
            ]
          },
          "metadata": {},
          "execution_count": 108
        }
      ]
    },
    {
      "cell_type": "code",
      "metadata": {
        "id": "dtNBDD8Q5C6n"
      },
      "source": [
        "n1 = np.random.randint(1,100,5)"
      ],
      "execution_count": 109,
      "outputs": []
    },
    {
      "cell_type": "code",
      "metadata": {
        "id": "vjrDElLs5KYo",
        "colab": {
          "base_uri": "https://localhost:8080/"
        },
        "outputId": "de7f2ec8-12c8-4bcb-da6e-d786c00f977b"
      },
      "source": [
        "n1"
      ],
      "execution_count": 110,
      "outputs": [
        {
          "output_type": "execute_result",
          "data": {
            "text/plain": [
              "array([43, 73, 50, 84, 23])"
            ]
          },
          "metadata": {},
          "execution_count": 110
        }
      ]
    },
    {
      "cell_type": "code",
      "metadata": {
        "id": "5SI4sK935K0f"
      },
      "source": [
        "#Checking & changing the shape of Numpy arrays"
      ],
      "execution_count": 111,
      "outputs": []
    },
    {
      "cell_type": "code",
      "metadata": {
        "id": "1DfV0vMGQTVU"
      },
      "source": [
        "import numpy as np"
      ],
      "execution_count": 112,
      "outputs": []
    },
    {
      "cell_type": "code",
      "metadata": {
        "id": "SOXvhCMbQdWJ"
      },
      "source": [
        "n1 = np.array([[1,2,3],[4,5,6]])"
      ],
      "execution_count": 113,
      "outputs": []
    },
    {
      "cell_type": "code",
      "metadata": {
        "colab": {
          "base_uri": "https://localhost:8080/"
        },
        "id": "s94CelETQeID",
        "outputId": "ca7a5e73-2f99-44f1-8536-b7a9fbfc12e7"
      },
      "source": [
        "n1"
      ],
      "execution_count": 114,
      "outputs": [
        {
          "output_type": "execute_result",
          "data": {
            "text/plain": [
              "array([[1, 2, 3],\n",
              "       [4, 5, 6]])"
            ]
          },
          "metadata": {},
          "execution_count": 114
        }
      ]
    },
    {
      "cell_type": "code",
      "metadata": {
        "colab": {
          "base_uri": "https://localhost:8080/"
        },
        "id": "hJ0C0ypZQffT",
        "outputId": "058b1fdc-51b2-4fa0-b0cd-01a38ea9313e"
      },
      "source": [
        "n1.shape"
      ],
      "execution_count": 115,
      "outputs": [
        {
          "output_type": "execute_result",
          "data": {
            "text/plain": [
              "(2, 3)"
            ]
          },
          "metadata": {},
          "execution_count": 115
        }
      ]
    },
    {
      "cell_type": "code",
      "metadata": {
        "id": "PX1rCkfTQigW"
      },
      "source": [
        "n1.shape = (3,2)"
      ],
      "execution_count": 116,
      "outputs": []
    },
    {
      "cell_type": "code",
      "metadata": {
        "colab": {
          "base_uri": "https://localhost:8080/"
        },
        "id": "2qQ35azLQos2",
        "outputId": "4faeea0e-7531-49f8-b0b4-b1d6e227eabe"
      },
      "source": [
        "n1.shape"
      ],
      "execution_count": 117,
      "outputs": [
        {
          "output_type": "execute_result",
          "data": {
            "text/plain": [
              "(3, 2)"
            ]
          },
          "metadata": {},
          "execution_count": 117
        }
      ]
    },
    {
      "cell_type": "code",
      "metadata": {
        "id": "bym7ZjP1Qp4O"
      },
      "source": [
        "import numpy as np"
      ],
      "execution_count": 118,
      "outputs": []
    },
    {
      "cell_type": "code",
      "metadata": {
        "id": "SyHiYzM8Q5Yc"
      },
      "source": [
        "n7 = np.array([[1,2,3,4,5],[5,4,3,2,1]])"
      ],
      "execution_count": 119,
      "outputs": []
    },
    {
      "cell_type": "code",
      "metadata": {
        "colab": {
          "base_uri": "https://localhost:8080/"
        },
        "id": "5m_qbpEeRBym",
        "outputId": "ceded8f0-c96c-4f5f-f752-c25e570628b2"
      },
      "source": [
        "n7"
      ],
      "execution_count": 120,
      "outputs": [
        {
          "output_type": "execute_result",
          "data": {
            "text/plain": [
              "array([[1, 2, 3, 4, 5],\n",
              "       [5, 4, 3, 2, 1]])"
            ]
          },
          "metadata": {},
          "execution_count": 120
        }
      ]
    },
    {
      "cell_type": "code",
      "metadata": {
        "id": "cls3SILJSFwa"
      },
      "source": [
        "#Joining Numpy Arrays (Vertical , Horizontal and Column Stack)"
      ],
      "execution_count": 121,
      "outputs": []
    },
    {
      "cell_type": "code",
      "metadata": {
        "id": "FU8UcEqMSOt7"
      },
      "source": [
        "import numpy as np"
      ],
      "execution_count": 122,
      "outputs": []
    },
    {
      "cell_type": "code",
      "metadata": {
        "id": "RdAMF6iySs5Z"
      },
      "source": [
        "n1 = np.array([1,2,3])"
      ],
      "execution_count": 123,
      "outputs": []
    },
    {
      "cell_type": "code",
      "metadata": {
        "id": "iTxumI9uS3UB"
      },
      "source": [
        "n2 = np.array([4,5,6])"
      ],
      "execution_count": 124,
      "outputs": []
    },
    {
      "cell_type": "code",
      "metadata": {
        "colab": {
          "base_uri": "https://localhost:8080/"
        },
        "id": "YhE2hbAxS5-i",
        "outputId": "2d4017d1-b0b1-4df6-9a84-343cf9bb392e"
      },
      "source": [
        "np.vstack((n1,n2))"
      ],
      "execution_count": 125,
      "outputs": [
        {
          "output_type": "execute_result",
          "data": {
            "text/plain": [
              "array([[1, 2, 3],\n",
              "       [4, 5, 6]])"
            ]
          },
          "metadata": {},
          "execution_count": 125
        }
      ]
    },
    {
      "cell_type": "code",
      "metadata": {
        "colab": {
          "base_uri": "https://localhost:8080/"
        },
        "id": "zLBhfC33S_Pn",
        "outputId": "5f7153c3-6070-42cd-9ba7-149933b2d722"
      },
      "source": [
        "np.hstack((n1,n2))"
      ],
      "execution_count": 126,
      "outputs": [
        {
          "output_type": "execute_result",
          "data": {
            "text/plain": [
              "array([1, 2, 3, 4, 5, 6])"
            ]
          },
          "metadata": {},
          "execution_count": 126
        }
      ]
    },
    {
      "cell_type": "code",
      "metadata": {
        "colab": {
          "base_uri": "https://localhost:8080/"
        },
        "id": "8mqrmC7uTCst",
        "outputId": "76b8c075-77a9-4f0f-86b1-eee8626f2241"
      },
      "source": [
        "np.column_stack((n1,n2)) #Remember"
      ],
      "execution_count": 127,
      "outputs": [
        {
          "output_type": "execute_result",
          "data": {
            "text/plain": [
              "array([[1, 4],\n",
              "       [2, 5],\n",
              "       [3, 6]])"
            ]
          },
          "metadata": {},
          "execution_count": 127
        }
      ]
    },
    {
      "cell_type": "code",
      "metadata": {
        "id": "eANjcKpTTDPv"
      },
      "source": [
        "#Intersection & Difference n1 - n2 likhna h second wale me ok"
      ],
      "execution_count": 128,
      "outputs": []
    },
    {
      "cell_type": "code",
      "metadata": {
        "id": "mJ0RVwHcT1j7"
      },
      "source": [
        "import numpy as np"
      ],
      "execution_count": 133,
      "outputs": []
    },
    {
      "cell_type": "code",
      "metadata": {
        "id": "KEKos88eT56p"
      },
      "source": [
        "n1 = np.array([10,20,30,40,50,60])"
      ],
      "execution_count": 135,
      "outputs": []
    },
    {
      "cell_type": "code",
      "metadata": {
        "id": "qRqeVCW1T-Kq"
      },
      "source": [
        "n2 = np.array([50,60,70,80,90])"
      ],
      "execution_count": 136,
      "outputs": []
    },
    {
      "cell_type": "code",
      "metadata": {
        "colab": {
          "base_uri": "https://localhost:8080/"
        },
        "id": "OBrjekKNUSdF",
        "outputId": "9da2b5a1-1c67-402f-d915-8799d2a2454e"
      },
      "source": [
        "np.intersect1d(n1,n2)"
      ],
      "execution_count": 140,
      "outputs": [
        {
          "output_type": "execute_result",
          "data": {
            "text/plain": [
              "array([50, 60])"
            ]
          },
          "metadata": {},
          "execution_count": 140
        }
      ]
    },
    {
      "cell_type": "code",
      "metadata": {
        "colab": {
          "base_uri": "https://localhost:8080/"
        },
        "id": "CPGClDlDUZZW",
        "outputId": "25a58fa7-0f07-48b8-9dc0-ee6f041ca977"
      },
      "source": [
        "np.setdiff1d(n1,n2)"
      ],
      "execution_count": 143,
      "outputs": [
        {
          "output_type": "execute_result",
          "data": {
            "text/plain": [
              "array([10, 20, 30, 40])"
            ]
          },
          "metadata": {},
          "execution_count": 143
        }
      ]
    },
    {
      "cell_type": "code",
      "metadata": {
        "colab": {
          "base_uri": "https://localhost:8080/"
        },
        "id": "D6dzVeiJUlWD",
        "outputId": "25c025cb-7c08-4ea3-af73-2cb3b74ffc83"
      },
      "source": [
        "np.setdiff1d(n2,n1)"
      ],
      "execution_count": 144,
      "outputs": [
        {
          "output_type": "execute_result",
          "data": {
            "text/plain": [
              "array([70, 80, 90])"
            ]
          },
          "metadata": {},
          "execution_count": 144
        }
      ]
    },
    {
      "cell_type": "code",
      "metadata": {
        "id": "tk8_yZc7UzfW"
      },
      "source": [
        ""
      ],
      "execution_count": null,
      "outputs": []
    }
  ]
}