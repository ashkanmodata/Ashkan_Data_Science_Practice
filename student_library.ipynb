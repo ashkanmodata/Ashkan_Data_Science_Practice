{
  "nbformat": 4,
  "nbformat_minor": 0,
  "metadata": {
    "colab": {
      "name": "student_library.ipynb",
      "provenance": [],
      "authorship_tag": "ABX9TyOj57wgHuLlAg8NLU5FOBcS",
      "include_colab_link": true
    },
    "kernelspec": {
      "name": "python3",
      "display_name": "Python 3"
    },
    "language_info": {
      "name": "python"
    }
  },
  "cells": [
    {
      "cell_type": "markdown",
      "metadata": {
        "id": "view-in-github",
        "colab_type": "text"
      },
      "source": [
        "<a href=\"https://colab.research.google.com/github/ashkanmulla/Ashkan_Data_Science_Practice/blob/main/student_library.ipynb\" target=\"_parent\"><img src=\"https://colab.research.google.com/assets/colab-badge.svg\" alt=\"Open In Colab\"/></a>"
      ]
    },
    {
      "cell_type": "code",
      "metadata": {
        "id": "eAjCcKjOo7ry"
      },
      "source": [
        "import random\n",
        "randNumber = random.randint(1, 100)\n",
        "userGuess = None\n",
        "guesses = 0\n",
        "\n",
        "while(userGuess != randNumber):\n",
        "    userGuess = int(input(\"Enter your guess: \"))\n",
        "    guesses += 1\n",
        "    if(userGuess==randNumber):\n",
        "        print(\"You guessed it right!\")\n",
        "    else:\n",
        "        if(userGuess>randNumber):\n",
        "            print(\"You guessed it wrong! Enter a smaller number\")\n",
        "        else:\n",
        "            print(\"You guessed it wrong! Enter a larger number\")\n",
        "\n",
        "print(f\"You guessed the number in {guesses} guesses\")\n",
        "with open(\"hiscore.txt\", \"r\") as f:\n",
        "    hiscore = int(f.read())\n",
        "\n",
        "if(guesses<hiscore):\n",
        "    print(\"You have just broken the high score!\")\n",
        "    with open(\"hiscore.txt\", \"w\") as f:\n",
        "        f.write(str(guesses))\n"
      ],
      "execution_count": null,
      "outputs": []
    }
  ]
}