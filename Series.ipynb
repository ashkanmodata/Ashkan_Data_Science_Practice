{
  "nbformat": 4,
  "nbformat_minor": 0,
  "metadata": {
    "kernelspec": {
      "display_name": "Python 3",
      "language": "python",
      "name": "python3"
    },
    "language_info": {
      "codemirror_mode": {
        "name": "ipython",
        "version": 3
      },
      "file_extension": ".py",
      "mimetype": "text/x-python",
      "name": "python",
      "nbconvert_exporter": "python",
      "pygments_lexer": "ipython3",
      "version": "3.8.3"
    },
    "toc": {
      "base_numbering": 1,
      "nav_menu": {},
      "number_sections": true,
      "sideBar": true,
      "skip_h1_title": false,
      "title_cell": "Table of Contents",
      "title_sidebar": "Contents",
      "toc_cell": false,
      "toc_position": {},
      "toc_section_display": true,
      "toc_window_display": false
    },
    "colab": {
      "name": "2. Series.ipynb",
      "provenance": [],
      "include_colab_link": true
    }
  },
  "cells": [
    {
      "cell_type": "markdown",
      "metadata": {
        "id": "view-in-github",
        "colab_type": "text"
      },
      "source": [
        "<a href=\"https://colab.research.google.com/github/ashkanmulla/Ashkan_Data_Science_Practice/blob/main/Series.ipynb\" target=\"_parent\"><img src=\"https://colab.research.google.com/assets/colab-badge.svg\" alt=\"Open In Colab\"/></a>"
      ]
    },
    {
      "cell_type": "code",
      "metadata": {
        "id": "992njye0vRA3"
      },
      "source": [
        "import numpy as np\n",
        "import pandas as pd"
      ],
      "execution_count": 1,
      "outputs": []
    },
    {
      "cell_type": "code",
      "metadata": {
        "id": "O5YAvfBdvRA6"
      },
      "source": [
        "labels = ['a', 'b', 'c']\n",
        "lst_data = [10, 20, 30]"
      ],
      "execution_count": 2,
      "outputs": []
    },
    {
      "cell_type": "code",
      "metadata": {
        "id": "PCTe6ntTvRA7"
      },
      "source": [
        "s_lst_data = pd.Series(lst_data)"
      ],
      "execution_count": 3,
      "outputs": []
    },
    {
      "cell_type": "code",
      "metadata": {
        "id": "Vetnk0OLvRA9"
      },
      "source": [
        "s_lst_data_label = pd.Series(lst_data, index=labels)"
      ],
      "execution_count": 5,
      "outputs": []
    },
    {
      "cell_type": "code",
      "metadata": {
        "id": "WK3liZhavRA-",
        "outputId": "ab24e76d-7d47-4d7f-a3cd-3102a9ae3476",
        "colab": {
          "base_uri": "https://localhost:8080/"
        }
      },
      "source": [
        "s_lst_data_label"
      ],
      "execution_count": 6,
      "outputs": [
        {
          "output_type": "execute_result",
          "data": {
            "text/plain": [
              "a    10\n",
              "b    20\n",
              "c    30\n",
              "dtype: int64"
            ]
          },
          "metadata": {},
          "execution_count": 6
        }
      ]
    },
    {
      "cell_type": "code",
      "metadata": {
        "id": "BXPKCHgzvRA_",
        "outputId": "889ed89d-9d82-4e6e-e1e0-1406301192e5",
        "colab": {
          "base_uri": "https://localhost:8080/"
        }
      },
      "source": [
        "s_lst_data_label.index"
      ],
      "execution_count": 7,
      "outputs": [
        {
          "output_type": "execute_result",
          "data": {
            "text/plain": [
              "Index(['a', 'b', 'c'], dtype='object')"
            ]
          },
          "metadata": {},
          "execution_count": 7
        }
      ]
    },
    {
      "cell_type": "code",
      "metadata": {
        "id": "CV8C9drHvRBB"
      },
      "source": [
        "arr = np.array([11, 22, 33])"
      ],
      "execution_count": 8,
      "outputs": []
    },
    {
      "cell_type": "code",
      "metadata": {
        "id": "nAoJlOovvRBC",
        "outputId": "4cd838b5-f15b-4acf-c35a-d13adf00f74c",
        "colab": {
          "base_uri": "https://localhost:8080/"
        }
      },
      "source": [
        "arr"
      ],
      "execution_count": 9,
      "outputs": [
        {
          "output_type": "execute_result",
          "data": {
            "text/plain": [
              "array([11, 22, 33])"
            ]
          },
          "metadata": {},
          "execution_count": 9
        }
      ]
    },
    {
      "cell_type": "code",
      "metadata": {
        "id": "Dn1D3To_vRBD"
      },
      "source": [
        "s_arr_labels = pd.Series(arr, labels)"
      ],
      "execution_count": 10,
      "outputs": []
    },
    {
      "cell_type": "code",
      "metadata": {
        "id": "QsuQrwcRvRBE",
        "outputId": "447f790f-69bb-4ec1-adc7-ba4999175295",
        "colab": {
          "base_uri": "https://localhost:8080/"
        }
      },
      "source": [
        "s_arr_labels"
      ],
      "execution_count": 11,
      "outputs": [
        {
          "output_type": "execute_result",
          "data": {
            "text/plain": [
              "a    11\n",
              "b    22\n",
              "c    33\n",
              "dtype: int64"
            ]
          },
          "metadata": {},
          "execution_count": 11
        }
      ]
    },
    {
      "cell_type": "code",
      "metadata": {
        "id": "qyRwi7YjvRBE"
      },
      "source": [
        "d = {'a': \"41\", \"b\": 51, \"c\": 61}"
      ],
      "execution_count": 12,
      "outputs": []
    },
    {
      "cell_type": "code",
      "metadata": {
        "id": "9bdD_rmlvRBF",
        "outputId": "d5463eec-6975-46bc-dd56-e41a693e754a",
        "colab": {
          "base_uri": "https://localhost:8080/"
        }
      },
      "source": [
        "pd.Series(d)"
      ],
      "execution_count": 13,
      "outputs": [
        {
          "output_type": "execute_result",
          "data": {
            "text/plain": [
              "a    41\n",
              "b    51\n",
              "c    61\n",
              "dtype: object"
            ]
          },
          "metadata": {},
          "execution_count": 13
        }
      ]
    },
    {
      "cell_type": "code",
      "metadata": {
        "id": "eb9VpNOOvRBG"
      },
      "source": [
        "d = {\"India\": \"Delhi\", \"Srilanka\": \"Colombo\", \"Australia\": \"Sydney\"}"
      ],
      "execution_count": 14,
      "outputs": []
    },
    {
      "cell_type": "code",
      "metadata": {
        "id": "hu_svgVWvRBG",
        "outputId": "03e678e4-af34-4f3a-fa7d-5de8808c28a7",
        "colab": {
          "base_uri": "https://localhost:8080/"
        }
      },
      "source": [
        "pd.Series(d)"
      ],
      "execution_count": 15,
      "outputs": [
        {
          "output_type": "execute_result",
          "data": {
            "text/plain": [
              "India          Delhi\n",
              "Srilanka     Colombo\n",
              "Australia     Sydney\n",
              "dtype: object"
            ]
          },
          "metadata": {},
          "execution_count": 15
        }
      ]
    },
    {
      "cell_type": "code",
      "metadata": {
        "id": "NatT6e8yvRBH",
        "outputId": "9b230e75-bea1-41a8-fdf2-884788af38aa",
        "colab": {
          "base_uri": "https://localhost:8080/"
        }
      },
      "source": [
        "pd.Series(d, labels)"
      ],
      "execution_count": 16,
      "outputs": [
        {
          "output_type": "execute_result",
          "data": {
            "text/plain": [
              "a    NaN\n",
              "b    NaN\n",
              "c    NaN\n",
              "dtype: object"
            ]
          },
          "metadata": {},
          "execution_count": 16
        }
      ]
    },
    {
      "cell_type": "code",
      "metadata": {
        "id": "CKdJjBmmvRBH"
      },
      "source": [
        "labels = ['a', 'b', 'a']\n",
        "lst_data = [10, 20, 30]"
      ],
      "execution_count": 17,
      "outputs": []
    },
    {
      "cell_type": "code",
      "metadata": {
        "id": "7ePb7vSKvRBI",
        "outputId": "2884b34a-7424-419a-85e5-604e25a75241",
        "colab": {
          "base_uri": "https://localhost:8080/"
        }
      },
      "source": [
        "pd.Series(lst_data, labels)"
      ],
      "execution_count": 18,
      "outputs": [
        {
          "output_type": "execute_result",
          "data": {
            "text/plain": [
              "a    10\n",
              "b    20\n",
              "a    30\n",
              "dtype: int64"
            ]
          },
          "metadata": {},
          "execution_count": 18
        }
      ]
    },
    {
      "cell_type": "code",
      "metadata": {
        "id": "gDIqaFW2vRBI"
      },
      "source": [
        "d = {\"India\": \"Delhi\", \"Srilanka\": \"Colombo\", \"a\": \"Sydney\"}"
      ],
      "execution_count": 19,
      "outputs": []
    },
    {
      "cell_type": "code",
      "metadata": {
        "id": "lngcPgQhvRBJ"
      },
      "source": [
        "s1 = pd.Series(d, labels)"
      ],
      "execution_count": 20,
      "outputs": []
    },
    {
      "cell_type": "code",
      "metadata": {
        "id": "iKE409RnvRBK",
        "outputId": "1c7056d1-b91e-4a32-ae5e-9b83f13018fc",
        "colab": {
          "base_uri": "https://localhost:8080/"
        }
      },
      "source": [
        "s1"
      ],
      "execution_count": 21,
      "outputs": [
        {
          "output_type": "execute_result",
          "data": {
            "text/plain": [
              "a    Sydney\n",
              "b       NaN\n",
              "a    Sydney\n",
              "dtype: object"
            ]
          },
          "metadata": {},
          "execution_count": 21
        }
      ]
    },
    {
      "cell_type": "code",
      "metadata": {
        "id": "jIeQbgsbvRBK",
        "outputId": "02a926b3-4fca-4eb6-e826-898c8a10a534",
        "colab": {
          "base_uri": "https://localhost:8080/"
        }
      },
      "source": [
        "s1[\"a\"]"
      ],
      "execution_count": 22,
      "outputs": [
        {
          "output_type": "execute_result",
          "data": {
            "text/plain": [
              "a    Sydney\n",
              "a    Sydney\n",
              "dtype: object"
            ]
          },
          "metadata": {},
          "execution_count": 22
        }
      ]
    },
    {
      "cell_type": "code",
      "metadata": {
        "id": "ciBEkjUUvRBL"
      },
      "source": [
        "s_example = pd.Series([4, 7, -5, 3], index=['d', 'b', 'a', 'c'])"
      ],
      "execution_count": 23,
      "outputs": []
    },
    {
      "cell_type": "code",
      "metadata": {
        "id": "VpF49O1QvRBL",
        "outputId": "c32f847f-1d22-416f-b423-edfddde16ae5",
        "colab": {
          "base_uri": "https://localhost:8080/"
        }
      },
      "source": [
        "s_example"
      ],
      "execution_count": 24,
      "outputs": [
        {
          "output_type": "execute_result",
          "data": {
            "text/plain": [
              "d    4\n",
              "b    7\n",
              "a   -5\n",
              "c    3\n",
              "dtype: int64"
            ]
          },
          "metadata": {},
          "execution_count": 24
        }
      ]
    },
    {
      "cell_type": "code",
      "metadata": {
        "id": "RZAqsI5SvRBM",
        "outputId": "94d6aa6f-5852-4b97-9ddb-87c9a56ded19",
        "colab": {
          "base_uri": "https://localhost:8080/"
        }
      },
      "source": [
        "s_example.values"
      ],
      "execution_count": 25,
      "outputs": [
        {
          "output_type": "execute_result",
          "data": {
            "text/plain": [
              "array([ 4,  7, -5,  3])"
            ]
          },
          "metadata": {},
          "execution_count": 25
        }
      ]
    },
    {
      "cell_type": "code",
      "metadata": {
        "id": "YBE150SivRBM",
        "outputId": "c0a121a1-dfc4-4f9d-d9f5-c64e16a4c85d",
        "colab": {
          "base_uri": "https://localhost:8080/"
        }
      },
      "source": [
        "s_example.index"
      ],
      "execution_count": 26,
      "outputs": [
        {
          "output_type": "execute_result",
          "data": {
            "text/plain": [
              "Index(['d', 'b', 'a', 'c'], dtype='object')"
            ]
          },
          "metadata": {},
          "execution_count": 26
        }
      ]
    },
    {
      "cell_type": "code",
      "metadata": {
        "id": "pHo1aFylvRBM",
        "outputId": "38a07dbd-ca09-4bec-ff72-b1fe815fb468",
        "colab": {
          "base_uri": "https://localhost:8080/"
        }
      },
      "source": [
        "s_example['d']"
      ],
      "execution_count": 27,
      "outputs": [
        {
          "output_type": "execute_result",
          "data": {
            "text/plain": [
              "4"
            ]
          },
          "metadata": {},
          "execution_count": 27
        }
      ]
    },
    {
      "cell_type": "code",
      "metadata": {
        "id": "WsMo4TpwvRBN"
      },
      "source": [
        "s_example['d'] = 100"
      ],
      "execution_count": 28,
      "outputs": []
    },
    {
      "cell_type": "code",
      "metadata": {
        "id": "iM1X8HPavRBN",
        "outputId": "4fd8a618-044c-4dfb-c7d8-6a996f8429ef",
        "colab": {
          "base_uri": "https://localhost:8080/"
        }
      },
      "source": [
        "s_example"
      ],
      "execution_count": 29,
      "outputs": [
        {
          "output_type": "execute_result",
          "data": {
            "text/plain": [
              "d    100\n",
              "b      7\n",
              "a     -5\n",
              "c      3\n",
              "dtype: int64"
            ]
          },
          "metadata": {},
          "execution_count": 29
        }
      ]
    },
    {
      "cell_type": "code",
      "metadata": {
        "id": "rCb8BVF5vRBN",
        "outputId": "84835183-1a19-4d38-c5aa-79c6075e2a6c",
        "colab": {
          "base_uri": "https://localhost:8080/"
        }
      },
      "source": [
        "s_example > 0"
      ],
      "execution_count": 30,
      "outputs": [
        {
          "output_type": "execute_result",
          "data": {
            "text/plain": [
              "d     True\n",
              "b     True\n",
              "a    False\n",
              "c     True\n",
              "dtype: bool"
            ]
          },
          "metadata": {},
          "execution_count": 30
        }
      ]
    },
    {
      "cell_type": "code",
      "metadata": {
        "id": "2PpvXfCjvRBO",
        "outputId": "1efe4987-aa95-49b2-b0aa-98e5240a1015",
        "colab": {
          "base_uri": "https://localhost:8080/"
        }
      },
      "source": [
        "s_example[s_example > 0]"
      ],
      "execution_count": 31,
      "outputs": [
        {
          "output_type": "execute_result",
          "data": {
            "text/plain": [
              "d    100\n",
              "b      7\n",
              "c      3\n",
              "dtype: int64"
            ]
          },
          "metadata": {},
          "execution_count": 31
        }
      ]
    },
    {
      "cell_type": "code",
      "metadata": {
        "id": "1ls-OKErvRBO"
      },
      "source": [
        "# in"
      ],
      "execution_count": 32,
      "outputs": []
    },
    {
      "cell_type": "code",
      "metadata": {
        "id": "-evR5nQyvRBO",
        "outputId": "376512b4-1c0d-42ed-abec-50ec4c2d7268",
        "colab": {
          "base_uri": "https://localhost:8080/"
        }
      },
      "source": [
        "\"d\" in s_example"
      ],
      "execution_count": 33,
      "outputs": [
        {
          "output_type": "execute_result",
          "data": {
            "text/plain": [
              "True"
            ]
          },
          "metadata": {},
          "execution_count": 33
        }
      ]
    },
    {
      "cell_type": "code",
      "metadata": {
        "id": "KPHY_t7fvRBP",
        "outputId": "97c7b227-bcc1-4058-ca74-15b689ebdb27",
        "colab": {
          "base_uri": "https://localhost:8080/"
        }
      },
      "source": [
        "100 in s_example"
      ],
      "execution_count": 34,
      "outputs": [
        {
          "output_type": "execute_result",
          "data": {
            "text/plain": [
              "False"
            ]
          },
          "metadata": {},
          "execution_count": 34
        }
      ]
    },
    {
      "cell_type": "code",
      "metadata": {
        "id": "DGoF6H-9vRBP",
        "outputId": "c2ab5659-56f3-4f5c-f9cc-74852ab6a843",
        "colab": {
          "base_uri": "https://localhost:8080/"
        }
      },
      "source": [
        "100 in s_example.values"
      ],
      "execution_count": 35,
      "outputs": [
        {
          "output_type": "execute_result",
          "data": {
            "text/plain": [
              "True"
            ]
          },
          "metadata": {},
          "execution_count": 35
        }
      ]
    },
    {
      "cell_type": "code",
      "metadata": {
        "id": "nsMX8lTZvRBP",
        "outputId": "8d634c8f-1961-4a5b-9661-3ea525507446",
        "colab": {
          "base_uri": "https://localhost:8080/"
        }
      },
      "source": [
        "s_example.values"
      ],
      "execution_count": 36,
      "outputs": [
        {
          "output_type": "execute_result",
          "data": {
            "text/plain": [
              "array([100,   7,  -5,   3])"
            ]
          },
          "metadata": {},
          "execution_count": 36
        }
      ]
    },
    {
      "cell_type": "code",
      "metadata": {
        "id": "I-Ix_Ka5vRBQ"
      },
      "source": [
        ""
      ],
      "execution_count": 36,
      "outputs": []
    }
  ]
}