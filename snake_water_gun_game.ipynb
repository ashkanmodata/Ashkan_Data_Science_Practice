{
  "nbformat": 4,
  "nbformat_minor": 0,
  "metadata": {
    "colab": {
      "name": "snake_water_gun_game.ipynb",
      "provenance": [],
      "authorship_tag": "ABX9TyNBK7oG9swRujoEz2zR1vAa",
      "include_colab_link": true
    },
    "kernelspec": {
      "name": "python3",
      "display_name": "Python 3"
    },
    "language_info": {
      "name": "python"
    }
  },
  "cells": [
    {
      "cell_type": "markdown",
      "metadata": {
        "id": "view-in-github",
        "colab_type": "text"
      },
      "source": [
        "<a href=\"https://colab.research.google.com/github/ashkanmulla/Ashkan_Data_Science_Practice/blob/main/snake_water_gun_game.ipynb\" target=\"_parent\"><img src=\"https://colab.research.google.com/assets/colab-badge.svg\" alt=\"Open In Colab\"/></a>"
      ]
    },
    {
      "cell_type": "code",
      "metadata": {
        "colab": {
          "base_uri": "https://localhost:8080/"
        },
        "id": "Hh-IAF6omQNc",
        "outputId": "c4be427f-05af-4f99-fc7d-abb9e82c2c7a"
      },
      "source": [
        "import random\n",
        "\n",
        "# Snake Water Gun or Rock Paper Scissors\n",
        "def gameWin(comp, you):\n",
        "    # If two values are equal, declare a tie!\n",
        "    if comp == you:\n",
        "        return None\n",
        "\n",
        "    # Check for all possibilities when computer chose s\n",
        "    elif comp == 's':\n",
        "        if you=='w':\n",
        "            return False\n",
        "        elif you=='g':\n",
        "            return True\n",
        "    \n",
        "    # Check for all possibilities when computer chose w\n",
        "    elif comp == 'w':\n",
        "        if you=='g':\n",
        "            return False\n",
        "        elif you=='s':\n",
        "            return True\n",
        "    \n",
        "    # Check for all possibilities when computer chose g\n",
        "    elif comp == 'g':\n",
        "        if you=='s':\n",
        "            return False\n",
        "        elif you=='w':\n",
        "            return True\n",
        "\n",
        "print(\"Comp Turn: Snake(s) Water(w) or Gun(g)?\")\n",
        "randNo = random.randint(1, 3) \n",
        "if randNo == 1:\n",
        "    comp = 's'\n",
        "elif randNo == 2:\n",
        "    comp = 'w'\n",
        "elif randNo == 3:\n",
        "    comp = 'g'\n",
        "\n",
        "you = input(\"Your Turn: Snake(s) Water(w) or Gun(g)?\")\n",
        "a = gameWin(comp, you)\n",
        "\n",
        "print(f\"Computer chose {comp}\")\n",
        "print(f\"You chose {you}\")\n",
        "\n",
        "if a == None:\n",
        "    print(\"The game is a tie!\")\n",
        "elif a:\n",
        "    print(\"You Win!\")\n",
        "else:\n",
        "    print(\"You Lose!\")"
      ],
      "execution_count": null,
      "outputs": [
        {
          "output_type": "stream",
          "name": "stdout",
          "text": [
            "Comp Turn: Snake(s) Water(w) or Gun(g)?\n"
          ]
        }
      ]
    }
  ]
}