{
  "cells": [
    {
      "cell_type": "markdown",
      "metadata": {
        "id": "view-in-github",
        "colab_type": "text"
      },
      "source": [
        "<a href=\"https://colab.research.google.com/github/ashkanmulla/Ashkan_Data_Science_Practice/blob/main/Assignment_01.ipynb\" target=\"_parent\"><img src=\"https://colab.research.google.com/assets/colab-badge.svg\" alt=\"Open In Colab\"/></a>"
      ]
    },
    {
      "cell_type": "markdown",
      "id": "c519608e",
      "metadata": {
        "id": "c519608e"
      },
      "source": [
        "# Q1:- What is indentation error? Why indentation is important? Give one simple example?"
      ]
    },
    {
      "cell_type": "code",
      "execution_count": 1,
      "id": "c5ec209b",
      "metadata": {
        "colab": {
          "base_uri": "https://localhost:8080/",
          "height": 130
        },
        "id": "c5ec209b",
        "outputId": "bf3ecff4-0c8a-4dda-ed06-35ee51b18cc5"
      },
      "outputs": [
        {
          "output_type": "error",
          "ename": "IndentationError",
          "evalue": "ignored",
          "traceback": [
            "\u001b[0;36m  File \u001b[0;32m\"<ipython-input-1-c105c16931e1>\"\u001b[0;36m, line \u001b[0;32m15\u001b[0m\n\u001b[0;31m    print(\"Lets do work from home\") # This give indentation error bcz of on giving (4) space or TAB\u001b[0m\n\u001b[0m        ^\u001b[0m\n\u001b[0;31mIndentationError\u001b[0m\u001b[0;31m:\u001b[0m expected an indented block\n"
          ]
        }
      ],
      "source": [
        "'''The indentation error can occur when the spaces or tabs are not placed properly\n",
        "There will not be an issue if the interpreter does not find any issues with the spaces or tabs\n",
        "If there is an error due to indentation it will come in between the execution and can be a show stopper'''\n",
        "#Example\n",
        "raining = True\n",
        "\n",
        "if raining: #raining TRUE CONDITION \n",
        "    print(\"Lets do work from home\") # these 4 space before print statement is indentation \n",
        "else:\n",
        "    print(\"Lets go to office\")\n",
        "#Example  of error\n",
        "raining = True\n",
        "\n",
        "if raining: #raining TRUE CONDITION \n",
        "print(\"Lets do work from home\") # This give indentation error bcz of on giving (4) space or TAB  \n",
        "else:\n",
        "    print(\"Lets go to office\")"
      ]
    },
    {
      "cell_type": "markdown",
      "id": "c647e640",
      "metadata": {
        "id": "c647e640"
      },
      "source": [
        "# Q2:- Correct the following code and write the comment where you made the correction?\n"
      ]
    },
    {
      "cell_type": "code",
      "execution_count": 2,
      "id": "f472b3cb",
      "metadata": {
        "colab": {
          "base_uri": "https://localhost:8080/"
        },
        "id": "f472b3cb",
        "outputId": "efece3ff-144c-4157-ef2c-76e542617ce0"
      },
      "outputs": [
        {
          "output_type": "stream",
          "name": "stdout",
          "text": [
            "Hey friend, is class started?: [0-False/1-True]...1\n",
            "True\n",
            "Since class started...\n",
            "Lets concentrate\n"
          ]
        }
      ],
      "source": [
        "class_started = bool(int(input(\"Hey friend, is class started?: [0-False/1-True]...\")))\n",
        "print(class_started)                 # add int  function between bool and input  to change input string to int and than into bool(True/False)\n",
        "if class_started:\n",
        "   print(\"Since class started...\")\n",
        "   print(\"Lets concentrate\")\n",
        "else:\n",
        "   print(\"Since class is not started...\")\n",
        "   print(\"let's revise\")    "
      ]
    },
    {
      "cell_type": "markdown",
      "id": "fb330e8a",
      "metadata": {
        "id": "fb330e8a"
      },
      "source": [
        "# Q3:- Use if else condition to verify that dataype of input() method in python is always string"
      ]
    },
    {
      "cell_type": "code",
      "execution_count": 3,
      "id": "79fefd8b",
      "metadata": {
        "colab": {
          "base_uri": "https://localhost:8080/"
        },
        "id": "79fefd8b",
        "outputId": "c5b9aea9-37df-452e-a1ac-2be1d8febb05"
      },
      "outputs": [
        {
          "output_type": "stream",
          "name": "stdout",
          "text": [
            "enter somthing as\n",
            "<class 'str'>\n",
            "user input is string \n"
          ]
        }
      ],
      "source": [
        "user = input(\"enter somthing \")\n",
        "print(type(user))\n",
        "if type(user) == str :\n",
        "    print(\"user input is string \")     # user enter anything it always a string check from this method  \n",
        "else:\n",
        "    print(\"user input is not string \")"
      ]
    },
    {
      "cell_type": "markdown",
      "id": "1bb73e99",
      "metadata": {
        "id": "1bb73e99"
      },
      "source": [
        "# Q4:-Take 3 variables and assign integer values to them. Find the largest variable, by only using the if and else conditions"
      ]
    },
    {
      "cell_type": "code",
      "execution_count": 4,
      "id": "876ec8d6",
      "metadata": {
        "colab": {
          "base_uri": "https://localhost:8080/"
        },
        "id": "876ec8d6",
        "outputId": "eb08097a-049f-42bf-c09f-28da0b1557e0"
      },
      "outputs": [
        {
          "output_type": "stream",
          "name": "stdout",
          "text": [
            "Enter the 1st number: \n",
            "12\n",
            "Enter the 2nd number: \n",
            "12\n",
            "Enter the 3rd number: \n",
            "12\n",
            "12 is greatest\n"
          ]
        }
      ],
      "source": [
        "n1=int(input(\"Enter the 1st number: \\n\"))\n",
        "n2=int(input(\"Enter the 2nd number: \\n\"))\n",
        "n3=int(input(\"Enter the 3rd number: \\n\"))\n",
        "\n",
        "if n1>n2:\n",
        "    f1=n1\n",
        "else:\n",
        "    f1=n2\n",
        "\n",
        "if n2>n3:\n",
        "    f2=n2\n",
        "else:\n",
        "    f2=n3\n",
        "    \n",
        "if f1>f2:\n",
        "    print(str(f1)+\" is greatest\")\n",
        "else:\n",
        "    print(str(f2)+\" is greatest\")\n",
        "    "
      ]
    },
    {
      "cell_type": "markdown",
      "id": "a41f8507",
      "metadata": {
        "id": "a41f8507"
      },
      "source": [
        "# Q5:- True\\False"
      ]
    },
    {
      "cell_type": "code",
      "execution_count": 5,
      "id": "193ea7ea",
      "metadata": {
        "colab": {
          "base_uri": "https://localhost:8080/"
        },
        "id": "193ea7ea",
        "outputId": "7fa51390-2c4e-401f-fdcc-f7f6f4b87991"
      },
      "outputs": [
        {
          "output_type": "stream",
          "name": "stdout",
          "text": [
            "False\n"
          ]
        }
      ],
      "source": [
        "a = 6\n",
        "b = 10\n",
        "print( not ( not a == 10 or not b == 10) )"
      ]
    },
    {
      "cell_type": "markdown",
      "id": "d94e14d0",
      "metadata": {
        "id": "d94e14d0"
      },
      "source": [
        "# Q6:-Find the answer as well as find out the reason behind the result?"
      ]
    },
    {
      "cell_type": "code",
      "execution_count": 6,
      "id": "02727e14",
      "metadata": {
        "colab": {
          "base_uri": "https://localhost:8080/"
        },
        "id": "02727e14",
        "outputId": "9ffa8b0c-b0bc-4af8-ab02-9c3e1b669c5c"
      },
      "outputs": [
        {
          "output_type": "stream",
          "name": "stdout",
          "text": [
            "False\n"
          ]
        }
      ],
      "source": [
        "# Case_01\n",
        "A = 5.0\n",
        "B = 10/2      \n",
        "print(A is B)  # When using 'is' function  then we are also comparing memory location"
      ]
    },
    {
      "cell_type": "code",
      "execution_count": 7,
      "id": "7d160b60",
      "metadata": {
        "colab": {
          "base_uri": "https://localhost:8080/"
        },
        "id": "7d160b60",
        "outputId": "e4cee673-3889-4a6b-84ef-8de5f45d12e4"
      },
      "outputs": [
        {
          "output_type": "stream",
          "name": "stdout",
          "text": [
            "False\n"
          ]
        }
      ],
      "source": [
        "# CAse_02\n",
        "A = 5.0      #  A is floot type & B is an integer \n",
        "B = int(10/2)    # also python  save them in different  memory location\n",
        "print(A is B)"
      ]
    },
    {
      "cell_type": "code",
      "execution_count": 8,
      "id": "3f7ab97a",
      "metadata": {
        "colab": {
          "base_uri": "https://localhost:8080/"
        },
        "id": "3f7ab97a",
        "outputId": "eae1a720-d031-4214-a391-a06478f84744"
      },
      "outputs": [
        {
          "output_type": "stream",
          "name": "stdout",
          "text": [
            "False\n"
          ]
        }
      ],
      "source": [
        "# CAse_03\n",
        "A = 5.0\n",
        "B = float(10/2)   # now both variable are same type \n",
        "print(A is B)         # but reason is same :- python  save tham in different  memory  location bcz A & B have different  values \n",
        "                        "
      ]
    },
    {
      "cell_type": "markdown",
      "id": "b773dc91",
      "metadata": {
        "id": "b773dc91"
      },
      "source": [
        "# Q7:- Write a program that asks the user to enter a number. You should print out a message to the user, either “That number is divisible by either 3 or 5”, or “That number is not divisible by either 3 or 5”. Be sure to consider the data type of the input you are taking in from the user. Use a single if/else block to solve this problem"
      ]
    },
    {
      "cell_type": "code",
      "execution_count": 9,
      "id": "9a91689c",
      "metadata": {
        "colab": {
          "base_uri": "https://localhost:8080/"
        },
        "id": "9a91689c",
        "outputId": "3fd6bb72-5d55-432a-8254-38ab5aae96df"
      },
      "outputs": [
        {
          "output_type": "stream",
          "name": "stdout",
          "text": [
            "Enter the number whose divisibility needs to be checked:12\n",
            "Enter the number with which divisibility needs to be checked:11\n",
            "The number is not divisible.\n"
          ]
        }
      ],
      "source": [
        "\n",
        "num = int(input(\"Enter the number whose divisibility needs to be checked:\"))\n",
        "\n",
        "div = int(input(\"Enter the number with which divisibility needs to be checked:\"))\n",
        "\n",
        "if num%div == 0:\n",
        "\n",
        "              print (\"The number is divisible.\")\n",
        "\n",
        "else:\n",
        "\n",
        "              print (\"The number is not divisible.\")\n",
        "\n",
        "\n"
      ]
    },
    {
      "cell_type": "markdown",
      "id": "278c6b28",
      "metadata": {
        "id": "278c6b28"
      },
      "source": [
        "# Q8:- Take user input for length and width. Then calculate the area of rectangle. Also print as per length and width whether its a square of rectangle.\n"
      ]
    },
    {
      "cell_type": "code",
      "execution_count": 10,
      "id": "26ba3f73",
      "metadata": {
        "colab": {
          "base_uri": "https://localhost:8080/"
        },
        "id": "26ba3f73",
        "outputId": "952172e1-7def-490d-860b-0f091ddea8a6"
      },
      "outputs": [
        {
          "output_type": "stream",
          "name": "stdout",
          "text": [
            "Enter the Lenght  of the Rectangle:- 12\n",
            "Enter the Width of the Rectangle:-  12\n",
            "Rectangle is a Square \n",
            "Area is Equal 144\n"
          ]
        }
      ],
      "source": [
        "length = int(input(\"Enter the Lenght  of the Rectangle:- \"))\n",
        "width = int(input(\"Enter the Width of the Rectangle:-  \"))\n",
        "# Area of Rectangle is = length * width\n",
        "if length==width:\n",
        "    print(\"Rectangle is a Square \")\n",
        "    print(f\"Area is Equal {length**2}\")\n",
        "else:\n",
        "    print(f\"area of rectangle {length * width}\")"
      ]
    },
    {
      "cell_type": "markdown",
      "id": "1fc60435",
      "metadata": {
        "id": "1fc60435"
      },
      "source": [
        "# Q9:- Take two variable radius_1 and radius_2 and calculate the area of circle_1 and circle_2. Also print which circle has large area. If area is equal then print area is equal."
      ]
    },
    {
      "cell_type": "code",
      "execution_count": 11,
      "id": "ab6d8a7b",
      "metadata": {
        "colab": {
          "base_uri": "https://localhost:8080/"
        },
        "id": "ab6d8a7b",
        "outputId": "ed6edb00-0757-4fd9-8ec7-ddab0f200f6d"
      },
      "outputs": [
        {
          "output_type": "stream",
          "name": "stdout",
          "text": [
            "Enter the radius of circle 1:- 12\n",
            "Enter the radius of circle 2:- 1\n",
            "Area of circle 1 452.57142857142856\n",
            "Area of circle 2 3.142857142857143\n",
            "area of circle 1 is largest than circle 2\n"
          ]
        }
      ],
      "source": [
        "c1 = int(input(\"Enter the radius of circle 1:- \"))\n",
        "c2 = int(input(\"Enter the radius of circle 2:- \"))\n",
        "area_c1 = (f\"Area of circle 1 {c1**2*22/7}\")\n",
        "area_c2 = (f\"Area of circle 2 {c2**2*22/7}\")\n",
        "print(area_c1)\n",
        "print(area_c2)\n",
        "if c1 > c2:\n",
        "    print(\"area of circle 1 is largest than circle 2\")\n",
        "if c2 > c1:\n",
        "    print(\"area of circle 2 is largest than circle 1\")\n",
        "if c1==c2:\n",
        "    print(\"area of circle 1 and circle 2 is equal \")"
      ]
    },
    {
      "cell_type": "code",
      "execution_count": 12,
      "id": "d5553ed3",
      "metadata": {
        "colab": {
          "base_uri": "https://localhost:8080/"
        },
        "id": "d5553ed3",
        "outputId": "e71a90e1-967e-4edb-8c15-d63200d52339"
      },
      "outputs": [
        {
          "output_type": "stream",
          "name": "stdout",
          "text": [
            "enter the radius of circle 1 :- 1\n",
            "enter the radius of circle 2 :- 2\n",
            "Area of circle 1 3.142857142857143\n",
            "Area of circle 2 12.571428571428571\n",
            "area of circle 2 is largest than circle 1\n"
          ]
        }
      ],
      "source": [
        "# other Way \n",
        "r1 = int(input(\"enter the radius of circle 1 :- \"))\n",
        "r2 = int(input(\"enter the radius of circle 2 :- \"))\n",
        "print(f\"Area of circle 1 {r1**2*22/7}\")\n",
        "print(f\"Area of circle 2 {r2**2*22/7}\")\n",
        "if r1 > r2:\n",
        "    print(\"area of circle 1 is largest than circle 2\")\n",
        "else:    \n",
        "    if r2 > r1:\n",
        "        print(\"area of circle 2 is largest than circle 1\")\n",
        "    else:\n",
        "        print(\"area of circle 1 and circle 2 is equal\")\n",
        "        \n",
        "    "
      ]
    },
    {
      "cell_type": "markdown",
      "id": "0e85af06",
      "metadata": {
        "id": "0e85af06"
      },
      "source": [
        "# Q10:- Check whether a year is leap year or not. Use nested if...else to solve this problem. A leap year is exactly divisible by 4 except for century years (years ending with 00). The century year is a leap year only if it is perfectly divisible by 400"
      ]
    },
    {
      "cell_type": "code",
      "execution_count": 13,
      "id": "2d79c502",
      "metadata": {
        "colab": {
          "base_uri": "https://localhost:8080/"
        },
        "id": "2d79c502",
        "outputId": "07224b90-8d51-4d20-e6a9-5c50216bde7b"
      },
      "outputs": [
        {
          "output_type": "stream",
          "name": "stdout",
          "text": [
            " Enter the year 1\n",
            "not leap year\n"
          ]
        }
      ],
      "source": [
        "year = int(input(\" Enter the year \"))\n",
        "if (year % 4 == 0):\n",
        "     if(year % 100 == 0)and(year % 400 != 0):\n",
        "        print(\"this year is not  a leap year  \")\n",
        "     else:\n",
        "        print(\" the year is leap year \")\n",
        "else:\n",
        "    print(\"not leap year\")"
      ]
    },
    {
      "cell_type": "code",
      "execution_count": null,
      "id": "ce0b7857",
      "metadata": {
        "id": "ce0b7857"
      },
      "outputs": [],
      "source": []
    }
  ],
  "metadata": {
    "kernelspec": {
      "display_name": "Python 3 (ipykernel)",
      "language": "python",
      "name": "python3"
    },
    "language_info": {
      "codemirror_mode": {
        "name": "ipython",
        "version": 3
      },
      "file_extension": ".py",
      "mimetype": "text/x-python",
      "name": "python",
      "nbconvert_exporter": "python",
      "pygments_lexer": "ipython3",
      "version": "3.9.12"
    },
    "colab": {
      "provenance": [],
      "collapsed_sections": [],
      "include_colab_link": true
    }
  },
  "nbformat": 4,
  "nbformat_minor": 5
}